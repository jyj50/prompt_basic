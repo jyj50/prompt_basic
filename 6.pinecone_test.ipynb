{
 "cells": [
  {
   "cell_type": "markdown",
   "id": "b6df3556",
   "metadata": {},
   "source": [
    "# Pinecone 환경 설정 확인"
   ]
  },
  {
   "cell_type": "code",
   "execution_count": 7,
   "id": "a69a3d29",
   "metadata": {},
   "outputs": [],
   "source": [
    "from dotenv import load_dotenv\n",
    "import os\n",
    "import pinecone\n",
    "from pinecone import Pinecone as PineconeClient\n",
    "from pinecone import ServerlessSpec"
   ]
  },
  {
   "cell_type": "code",
   "execution_count": 8,
   "id": "e56db42a",
   "metadata": {},
   "outputs": [
    {
     "name": "stdout",
     "output_type": "stream",
     "text": [
      "pcsk_2p7mV\n",
      "us-east-1-\n"
     ]
    }
   ],
   "source": [
    "pinecone_api_key = os.getenv(\"PINECONE_API_KEY\")\n",
    "pinecone_environment = os.getenv(\"PINECONE_ENVIRONMENT\")\n",
    "print(pinecone_api_key[:10])\n",
    "print(pinecone_environment[:10])"
   ]
  },
  {
   "cell_type": "code",
   "execution_count": null,
   "id": "0e3ec4b9",
   "metadata": {},
   "outputs": [],
   "source": [
    "# 파인코인 서비스 서버의 연결 설정\n",
    "pc = PineconeClient(api_key=pinecone_api_key, environment=pinecone_environment)"
   ]
  },
  {
   "cell_type": "code",
   "execution_count": null,
   "id": "7ff78c64",
   "metadata": {},
   "outputs": [],
   "source": [
    "# 서비스 서버 인덱스 유무에 따라서 인덱스 생성\n",
    "index_name = \"example-index\"\n",
    "embedding_dim = 1536 # text-embedding-3-small의 벡터 차원\n",
    "if not pc.has_index(index_name):\n",
    "  pc.create_index(name=index_name, dimension=embedding_dim,\n",
    "                  spec=ServerlessSpec(cloud=\"aws\", region=\"us-east-1\"))"
   ]
  },
  {
   "cell_type": "code",
   "execution_count": null,
   "id": "c342fa38",
   "metadata": {},
   "outputs": [
    {
     "name": "stderr",
     "output_type": "stream",
     "text": [
      "c:\\Users\\user\\Desktop\\Data-A\\prompt_basic\\.venv\\Lib\\site-packages\\tqdm\\auto.py:21: TqdmWarning: IProgress not found. Please update jupyter and ipywidgets. See https://ipywidgets.readthedocs.io/en/stable/user_install.html\n",
      "  from .autonotebook import tqdm as notebook_tqdm\n"
     ]
    }
   ],
   "source": [
    "# 서비스 서버의 인덱스와 연결 (받아오는)\n",
    "index = pc.Index(index_name)"
   ]
  },
  {
   "cell_type": "code",
   "execution_count": 12,
   "id": "01656c69",
   "metadata": {},
   "outputs": [],
   "source": [
    "# OpenAI의 임베딩 모델 설정 : text-embedding-3-small\n",
    "from langchain_openai import OpenAIEmbeddings\n",
    "embeddings = OpenAIEmbeddings(model=\"text-embedding-3-small\")"
   ]
  },
  {
   "cell_type": "code",
   "execution_count": 13,
   "id": "10ba99a7",
   "metadata": {},
   "outputs": [],
   "source": [
    "from langchain_core.documents import Document\n",
    "# 예시 문서 생성 (내용과 메타데이터)\n",
    "doc1 = Document(page_content=\"Building an exciting new project with LangChain - come check it out!\",\n",
    "                metadata={\"source\": \"tweet\"})\n",
    "doc2 = Document(page_content=\"The weather forecast for tomorrow is cloudy and overcast, with a high of 62 degrees.\",\n",
    "                metadata={\"source\": \"news\"})\n",
    "doc3 = Document(page_content=\"LangGraph is the best framework for building stateful, agentic applications!\",\n",
    "                metadata={\"source\": \"tweet\"})"
   ]
  },
  {
   "cell_type": "code",
   "execution_count": null,
   "id": "e4af5fa1",
   "metadata": {},
   "outputs": [],
   "source": [
    "from langchain_pinecone import PineconeVectorStore\n",
    "vector_store = PineconeVectorStore(index=index, embedding=embeddings)\n",
    "vector_store.add_documents([doc1, doc2, doc3])"
   ]
  },
  {
   "cell_type": "code",
   "execution_count": 16,
   "id": "801d17af",
   "metadata": {},
   "outputs": [
    {
     "name": "stdout",
     "output_type": "stream",
     "text": [
      "현재 벡터 DB 내 벡터 수: 3\n"
     ]
    }
   ],
   "source": [
    "print(f\"현재 벡터 DB 내 벡터 수: {index.describe_index_stats().total_vector_count}\")"
   ]
  },
  {
   "cell_type": "code",
   "execution_count": 17,
   "id": "569b6d99",
   "metadata": {},
   "outputs": [
    {
     "name": "stdout",
     "output_type": "stream",
     "text": [
      "쿼리 : LangChain은 LLM을 쉽게 작업할 수 있도록 추상화를 제공합니다.\n",
      "* Building an exciting new project with LangChain - come check it out! (source: tweet)\n",
      "* LangGraph is the best framework for building stateful, agentic applications! (source: tweet)\n"
     ]
    }
   ],
   "source": [
    "# 쿼리 해보기\n",
    "query1 = \"LangChain은 LLM을 쉽게 작업할 수 있도록 추상화를 제공합니다.\"\n",
    "results1 = vector_store.similarity_search(query=query1, k=2)\n",
    "print(f\"쿼리 : {query1}\")\n",
    "for result in results1:\n",
    "  print(f\"* {result.page_content} (source: {result.metadata['source']})\")"
   ]
  },
  {
   "cell_type": "code",
   "execution_count": 18,
   "id": "fb9fd4bb",
   "metadata": {},
   "outputs": [
    {
     "name": "stdout",
     "output_type": "stream",
     "text": [
      "쿼리 : LangChain은 LLM을 쉽게 작업할 수 있도록 추상화를 제공합니다.\n",
      "* Building an exciting new project with LangChain - come check it out! (source: tweet)\n",
      "* LangGraph is the best framework for building stateful, agentic applications! (source: tweet)\n"
     ]
    }
   ],
   "source": [
    "results2 = vector_store.similarity_search(query=query1, k=2, filter={\"source\": \"tweet\"})\n",
    "print(f\"쿼리 : {query1}\")\n",
    "for result in results2:\n",
    "  print(f\"* {result.page_content} (source: {result.metadata['source']})\")"
   ]
  },
  {
   "cell_type": "code",
   "execution_count": 21,
   "id": "183253ba",
   "metadata": {},
   "outputs": [
    {
     "name": "stdout",
     "output_type": "stream",
     "text": [
      "쿼리 : Will it be hot tomorrow\n",
      "* SIM=(0.5440) The weather forecast for tomorrow is cloudy and overcast, with a high of 62 degrees. (source: news)\n"
     ]
    }
   ],
   "source": [
    "query3 = \"Will it be hot tomorrow\"\n",
    "results3 = vector_store.similarity_search_with_score(query=query3, k=1, filter={\"source\": \"news\"})\n",
    "print(f\"쿼리 : {query3}\")\n",
    "for result, score in results3:\n",
    "  print(f\"* SIM=({score:.4f}) {result.page_content} (source: {result.metadata['source']})\")"
   ]
  },
  {
   "cell_type": "code",
   "execution_count": 23,
   "id": "3df61b82",
   "metadata": {},
   "outputs": [
    {
     "name": "stdout",
     "output_type": "stream",
     "text": [
      "쿼리 : Will it be hot tomorrw\n",
      "* SIM=(0.5091) The weather forecast for tomorrow is cloudy and overcast, with a high of 62 degrees. (source: news)\n",
      "* SIM=(0.0756) Building an exciting new project with LangChain - come check it out! (source: tweet)\n",
      "* SIM=(0.0406) LangGraph is the best framework for building stateful, agentic applications! (source: tweet)\n"
     ]
    }
   ],
   "source": [
    "query3 = \"Will it be hot tomorrw\"\n",
    "results4 = vector_store.similarity_search_with_score(query=query3, k=3)\n",
    "print(f\"쿼리 : {query3}\")\n",
    "for result, score in results4:\n",
    "  print(f\"* SIM=({score:.4f}) {result.page_content} (source: {result.metadata['source']})\")"
   ]
  },
  {
   "cell_type": "code",
   "execution_count": null,
   "id": "ad37ec8e",
   "metadata": {},
   "outputs": [],
   "source": []
  }
 ],
 "metadata": {
  "kernelspec": {
   "display_name": "prompt_basic",
   "language": "python",
   "name": "python3"
  },
  "language_info": {
   "codemirror_mode": {
    "name": "ipython",
    "version": 3
   },
   "file_extension": ".py",
   "mimetype": "text/x-python",
   "name": "python",
   "nbconvert_exporter": "python",
   "pygments_lexer": "ipython3",
   "version": "3.13.2"
  }
 },
 "nbformat": 4,
 "nbformat_minor": 5
}
