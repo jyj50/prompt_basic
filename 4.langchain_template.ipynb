{
 "cells": [
  {
   "cell_type": "markdown",
   "id": "8c2febba",
   "metadata": {},
   "source": [
    "# 단일 입력 PromptTemplate"
   ]
  },
  {
   "cell_type": "code",
   "execution_count": 1,
   "id": "6db65003",
   "metadata": {},
   "outputs": [],
   "source": [
    "from langchain.prompts import PromptTemplate"
   ]
  },
  {
   "cell_type": "code",
   "execution_count": 2,
   "id": "e5e932b2",
   "metadata": {},
   "outputs": [
    {
     "data": {
      "text/plain": [
       "'0.3.25'"
      ]
     },
     "execution_count": 2,
     "metadata": {},
     "output_type": "execute_result"
    }
   ],
   "source": [
    "import langchain\n",
    "langchain.__version__"
   ]
  },
  {
   "cell_type": "code",
   "execution_count": 3,
   "id": "7ff3109d",
   "metadata": {},
   "outputs": [
    {
     "name": "stdout",
     "output_type": "stream",
     "text": [
      "당신은 최고 수준의 마케팅 카피라이터입니다. \n",
      "아래 제품의 매력적인 홍보 문구를 100자 내외로 작성하십시오. \n",
      "\n",
      "제품명: \n"
     ]
    }
   ],
   "source": [
    "# 템플릿 문자열: 프롬프트의 골격을 정의\n",
    "# PromptTemplate 객체 생성: 인스턴스 변수 선언\n",
    "# 포맷(fromat) 메서드 수행: PromptTemplate.format()\n",
    "# LLM 호출\n",
    "template_str = (\n",
    "  \"당신은 최고 수준의 마케팅 카피라이터입니다. \\n\"\n",
    "  \"아래 제품의 매력적인 홍보 문구를 100자 내외로 작성하십시오. \\n\\n\"\n",
    "  \"제품명: {product_name}\"\n",
    ")\n",
    "\n",
    "prompt = PromptTemplate.from_template(template_str)\n",
    "\n",
    "input_str = input(\"제품명을 입력하세요\")\n",
    "formatted_prompt = prompt.format(product_name=input_str)\n",
    "print(formatted_prompt)"
   ]
  },
  {
   "cell_type": "code",
   "execution_count": 4,
   "id": "11f22557",
   "metadata": {},
   "outputs": [
    {
     "name": "stdout",
     "output_type": "stream",
     "text": [
      "제품명을 알려주시면, 매력적인 홍보 문구를 작성해드리겠습니다.\n"
     ]
    }
   ],
   "source": [
    "from langchain_openai import ChatOpenAI\n",
    "\n",
    "llm = ChatOpenAI(model=\"gpt-4.1-nano\", temperature=0)\n",
    "\n",
    "chain = prompt | llm\n",
    "\n",
    "result = chain.invoke({\"product_name\": input_str})\n",
    "print(result.content)"
   ]
  },
  {
   "cell_type": "markdown",
   "id": "2a3443ee",
   "metadata": {},
   "source": [
    "# 다중 입력 PromptTemplate"
   ]
  },
  {
   "cell_type": "code",
   "execution_count": 5,
   "id": "0f026cce",
   "metadata": {},
   "outputs": [
    {
     "name": "stdout",
     "output_type": "stream",
     "text": [
      "아래는 뉴스 기사 제목과 키워드입니다.\n",
      "이 정보를 바탕으로 한 문단으로 구성된 간략한 요약문을 작성하십시오.\n",
      "\n",
      "제목 : 인공지능 기술의 발전과 미래\n",
      "키워드 : 머신러닝, 딥러닝, 산업 혁신\n",
      "\n"
     ]
    }
   ],
   "source": [
    "multi_template_str = (\n",
    "  \"아래는 뉴스 기사 제목과 키워드입니다.\\n\"\n",
    "  \"이 정보를 바탕으로 한 문단으로 구성된 간략한 요약문을 작성하십시오.\\n\\n\"\n",
    "  \"제목 : {title}\\n\"\n",
    "  \"키워드 : {keywords}\\n\"\n",
    ")\n",
    "\n",
    "summary_prompt = PromptTemplate(template=multi_template_str, input_variables=[\"title\", \"keywords\"])\n",
    "\n",
    "sample_title = \"인공지능 기술의 발전과 미래\"\n",
    "sample_keywords = \"머신러닝, 딥러닝, 산업 혁신\"\n",
    "formatted_summary_prompt = summary_prompt.format(title=sample_title, keywords=sample_keywords)\n",
    "print(formatted_summary_prompt)"
   ]
  },
  {
   "cell_type": "code",
   "execution_count": 6,
   "id": "87d9acbd",
   "metadata": {},
   "outputs": [
    {
     "name": "stdout",
     "output_type": "stream",
     "text": [
      "인공지능 기술은 머신러닝과 딥러닝의 발전을 바탕으로 빠르게 진화하며 산업 전반에 혁신을 일으키고 있습니다. 이러한 기술들은 데이터 분석과 자동화 능력을 향상시켜 다양한 분야에서 효율성을 높이고 있으며, 앞으로도 지속적인 연구와 개발을 통해 미래 산업의 핵심 동력으로 자리매김할 것으로 기대됩니다.\n"
     ]
    }
   ],
   "source": [
    "result_summary = (summary_prompt | llm).invoke({\n",
    "  \"title\": sample_title,\n",
    "  \"keywords\": sample_keywords\n",
    "})\n",
    "print(result_summary.content)"
   ]
  },
  {
   "cell_type": "markdown",
   "id": "9855511f",
   "metadata": {},
   "source": [
    "# ChatPromptTemplate 를 이욯나 역할 기반 프롬프트"
   ]
  },
  {
   "cell_type": "code",
   "execution_count": 7,
   "id": "69869fb5",
   "metadata": {},
   "outputs": [],
   "source": [
    "from langchain.prompts import ChatPromptTemplate"
   ]
  },
  {
   "cell_type": "code",
   "execution_count": 9,
   "id": "3bd5cc4a",
   "metadata": {},
   "outputs": [
    {
     "name": "stdout",
     "output_type": "stream",
     "text": [
      "[SystemMessage(content='당신은 파이썬 분야의 뛰어난 전문가이자 조언자입니다.사용자의 프로그래밍 질문에 친절하고 이해하기 쉽게 답변하십시오.', additional_kwargs={}, response_metadata={}), HumanMessage(content='파이썬의 리스트 컴프리헨션(list comprehention)과 map 함수의 차이가 무엇이야?', additional_kwargs={}, response_metadata={})]\n"
     ]
    }
   ],
   "source": [
    "# 시나리오 : 파이썬 프로그램 전문가 역할 부여, 사용자가 파이썬 관련 질문에 친절히, 간경한 답변 하도록\n",
    "sys_message = (\"당신은 파이썬 분야의 뛰어난 전문가이자 조언자입니다.\"\n",
    "               \"사용자의 프로그래밍 질문에 친절하고 이해하기 쉽게 답변하십시오.\"\n",
    "               )\n",
    "user_message = \"{question}\" # 사용자 질문 -> 실행 시 입력값으로 채워진다.\n",
    "\n",
    "chat_prompt = ChatPromptTemplate.from_messages([\n",
    "  (\"system\", sys_message),\n",
    "  (\"user\", user_message)\n",
    "])\n",
    "\n",
    "sample_question = \"파이썬의 리스트 컴프리헨션(list comprehention)과 map 함수의 차이가 무엇이야?\"\n",
    "\n",
    "message = chat_prompt.format_messages(question=sample_question)\n",
    "print(message)"
   ]
  },
  {
   "cell_type": "code",
   "execution_count": 10,
   "id": "9935f857",
   "metadata": {},
   "outputs": [
    {
     "name": "stdout",
     "output_type": "stream",
     "text": [
      "안녕하세요! 파이썬에서 리스트 컴프리헨션과 `map()` 함수는 둘 다 기존 리스트나 이터러블을 기반으로 새 리스트를 만들 때 사용되지만, 각각의 특징과 차이점이 있습니다. 아래에서 쉽게 설명해 드릴게요.\n",
      "\n",
      "### 1. 리스트 컴프리헨션 (List Comprehension)\n",
      "- **문법이 간단하고 직관적임**\n",
      "- `[표현식 for 변수 in 이터러블 if 조건]` 형태로 사용\n",
      "- 조건문도 넣을 수 있어서 필터링도 가능\n",
      "- 새 리스트를 바로 생성하며, 가독성이 좋음\n",
      "\n",
      "**예제:**\n",
      "```python\n",
      "numbers = [1, 2, 3, 4, 5]\n",
      "squares = [x * x for x in numbers]\n",
      "# 결과: [1, 4, 9, 16, 25]\n",
      "```\n",
      "\n",
      "### 2. `map()` 함수\n",
      "- **함수와 이터러블을 인자로 받음**\n",
      "- `map(함수, 이터러블)` 형태로 사용\n",
      "- 반환값은 `map` 객체이기 때문에, 리스트로 변환하려면 `list()`로 감싸야 함\n",
      "- 함수형 프로그래밍 스타일에 가깝고, 여러 이터러블을 동시에 처리 가능\n",
      "\n",
      "**예제:**\n",
      "```python\n",
      "numbers = [1, 2, 3, 4, 5]\n",
      "squares = list(map(lambda x: x * x, numbers))\n",
      "# 결과: [1, 4, 9, 16, 25]\n",
      "```\n",
      "\n",
      "---\n",
      "\n",
      "### 차이점 정리\n",
      "| 특징 | 리스트 컴프리헨션 | `map()` 함수 |\n",
      "|---|---|---|\n",
      "| 문법 | `[표현식 for 변수 in 이터러블 if 조건]` | `map(함수, 이터러블)` |\n",
      "| 가독성 | 간단하고 직관적 | 함수형 스타일 선호 시 적합 |\n",
      "| 조건문 | 가능 (`if`) | 조건문 직접 불가, 필터링은 `filter()`와 함께 사용 |\n",
      "| 반환값 | 바로 리스트 | `map` 객체 → 리스트로 변환 필요 (`list()`) |\n",
      "| 여러 이터러블 | 복잡 | 여러 이터러블 동시에 처리 가능 (`map(func, a, b, ...)`) |\n",
      "\n",
      "---\n",
      "\n",
      "### 결론\n",
      "- **간단한 변환이나 필터링이 필요하면**: 리스트 컴프리헨션 추천\n",
      "- **함수형 프로그래밍 스타일을 선호하거나, 여러 이터러블을 동시에 처리할 때**: `map()` 사용\n",
      "\n",
      "궁금한 점 있으면 언제든 질문하세요!\n"
     ]
    }
   ],
   "source": [
    "result = (chat_prompt | llm).invoke({\"question\", sample_question})\n",
    "print(result.content)"
   ]
  },
  {
   "cell_type": "markdown",
   "id": "e026a581",
   "metadata": {},
   "source": [
    "# PartialPromptTemplate"
   ]
  },
  {
   "cell_type": "code",
   "execution_count": 11,
   "id": "b3fa8868",
   "metadata": {},
   "outputs": [],
   "source": [
    "from langchain.prompts import SystemMessagePromptTemplate\n",
    "from langchain.prompts import HumanMessagePromptTemplate"
   ]
  },
  {
   "cell_type": "code",
   "execution_count": 12,
   "id": "691811f9",
   "metadata": {},
   "outputs": [],
   "source": [
    "role_system_template = \"당신은 {role} 분야의 전문 지식인입니다. 가능한 한 자세히 답변해주세요.\"\n",
    "system_prompt = SystemMessagePromptTemplate.from_template(role_system_template)\n",
    "user_prompt = HumanMessagePromptTemplate.from_template(\"{question}\")\n",
    "\n",
    "base_chat_prompt = ChatPromptTemplate.from_messages([system_prompt, user_prompt])\n",
    "\n",
    "partial_chat_prompt = base_chat_prompt.partial(role=\"주식 투자\")"
   ]
  },
  {
   "cell_type": "code",
   "execution_count": 16,
   "id": "91dce8a3",
   "metadata": {},
   "outputs": [
    {
     "name": "stdout",
     "output_type": "stream",
     "text": [
      "[SystemMessage(content='당신은 주식 투자 분야의 전문 지식인입니다. 가능한 한 자세히 답변해주세요.', additional_kwargs={}, response_metadata={}), HumanMessage(content='현재 2025년 5월 시장 상황에서 삼성전자 주식 전망은 어떻습니까?', additional_kwargs={}, response_metadata={})]\n"
     ]
    }
   ],
   "source": [
    "sample_question = \"현재 2025년 5월 시장 상황에서 삼성전자 주식 전망은 어떻습니까?\"\n",
    "message = partial_chat_prompt.format_messages(question=sample_question)\n",
    "print(message)"
   ]
  },
  {
   "cell_type": "code",
   "execution_count": 17,
   "id": "3716a31e",
   "metadata": {},
   "outputs": [
    {
     "name": "stdout",
     "output_type": "stream",
     "text": [
      "2025년 5월 현재 시장 상황을 고려할 때, 삼성전자 주식의 전망은 여러 요인에 따라 달라질 수 있습니다. 아래에 주요 분석 포인트를 상세히 설명드리겠습니다.\n",
      "\n",
      "1. 글로벌 경제 및 시장 환경\n",
      "- 글로벌 경기 회복 여부: 2025년 현재 세계 경제는 일부 지역에서 안정세를 보이고 있으나, 미국, 중국, 유럽 등 주요 경제권의 성장률과 금리 정책이 주가에 영향을 미칩니다.\n",
      "- 인플레이션과 금리 정책: 미국 연준과 한국은행의 금리 정책이 지속적으로 변동한다면, 투자 심리와 자금 유입이 영향을 받습니다.\n",
      "2. 반도체 산업 및 기술 트렌드\n",
      "- 수요와 공급: 반도체 수요는 인공지능, 5G, 자율주행차, IoT 등 신기술 확산으로 지속적으로 증가하는 추세입니다. 삼성전자는 메모리 반도체와 시스템 반도체 모두 강력한 경쟁력을 갖추고 있어 수요 증가에 따른 실적 호조가 기대됩니다.\n",
      "- 공급망 이슈: 글로벌 공급망 문제, 원자재 가격 변동, 생산설비 투자 상황이 주가에 영향을 미칠 수 있습니다.\n",
      "3. 삼성전자의 재무 상태 및 전략\n",
      "- 실적 전망: 2025년 1분기 이후 실적은 반도체 가격 회복, 스마트폰 판매량 증가, 디스플레이 사업의 성장 등에 힘입어 긍정적일 가능성이 높습니다.\n",
      "- 투자 및 연구개발: 차세대 기술 개발, 친환경 사업 확대, 인수합병 전략 등은 장기 성장 동력을 강화할 수 있습니다.\n",
      "4. 경쟁사 및 시장 점유율\n",
      "- 글로벌 경쟁사와의 경쟁 구도: TSMC, 인텔, SK하이닉스 등과의 경쟁 상황이 주가에 영향을 미칩니다.\n",
      "- 시장 점유율 변화: 스마트폰, 가전, 반도체 시장에서의 점유율 확대 또는 축소 여부도 중요한 변수입니다.\n",
      "5. 정책 및 규제 환경\n",
      "- 정부 정책: 한국 정부의 반도체 산업 지원 정책, 글로벌 무역 정책, 규제 강화 여부가 시장에 영향을 미칩니다.\n",
      "- 환경·사회·지배구조(ESG): ESG 기준 강화로 인한 기업의 대응 전략도 투자자들의 관심사입니다.\n",
      "**전망 요약**  \n",
      "2025년 5월 현재, 삼성전자는 글로벌 반도체 시장의 성장과 기술 혁신, 강력한 재무구조를 바탕으로 긍정적인 성장세를 유지할 가능성이 높습니다. 그러나 글로벌 경제 불확실성, 공급망 문제, 경쟁 심화 등 리스크 요인도 존재합니다. 따라서, 장기적 관점에서 기술력과 시장 점유율 확대 전략이 지속된다면, 삼성전자 주식은 안정적이면서도 성장 잠재력을 갖춘 투자 대상으로 볼 수 있습니다.\n",
      "\n",
      "**투자 시 유의사항**  \n",
      "- 시장 변동성에 따른 단기 조정 가능성 고려\n",
      "- 글로벌 경제 및 정책 변화에 따른 리스크 분석\n",
      "- 기업의 실적 발표와 기술 개발 동향 지속 관찰\n",
      "- 분산 투자와 장기 투자 전략 병행 권장\n",
      "\n",
      "추가로 구체적인 재무 데이터, 시장 동향, 기술 개발 현황 등을 분석하면 더 정밀한 전망이 가능하니, 필요하시면 관련 자료를 요청해 주세요.\n"
     ]
    }
   ],
   "source": [
    "result = (partial_chat_prompt | llm).invoke({\"question\", sample_question})\n",
    "print(result.content)"
   ]
  },
  {
   "cell_type": "code",
   "execution_count": null,
   "id": "56c5a210",
   "metadata": {},
   "outputs": [],
   "source": []
  }
 ],
 "metadata": {
  "kernelspec": {
   "display_name": "prompt_basic",
   "language": "python",
   "name": "python3"
  },
  "language_info": {
   "codemirror_mode": {
    "name": "ipython",
    "version": 3
   },
   "file_extension": ".py",
   "mimetype": "text/x-python",
   "name": "python",
   "nbconvert_exporter": "python",
   "pygments_lexer": "ipython3",
   "version": "3.13.2"
  }
 },
 "nbformat": 4,
 "nbformat_minor": 5
}
