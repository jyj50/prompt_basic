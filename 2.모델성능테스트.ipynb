{
 "cells": [
  {
   "cell_type": "markdown",
   "id": "3283ffe9",
   "metadata": {},
   "source": [
    "# 모델 성능 테스트"
   ]
  },
  {
   "cell_type": "code",
   "execution_count": null,
   "id": "ecc8d156",
   "metadata": {},
   "outputs": [
    {
     "data": {
      "text/plain": [
       "True"
      ]
     },
     "execution_count": 3,
     "metadata": {},
     "output_type": "execute_result"
    }
   ],
   "source": [
    "from dotenv import load_dotenv\n",
    "import os\n",
    "from anthropic import Anthropic\n",
    "from IPython.display import display, Markdown\n",
    "load_dotenv()"
   ]
  },
  {
   "cell_type": "code",
   "execution_count": 2,
   "id": "1eabadfc",
   "metadata": {},
   "outputs": [],
   "source": [
    "client = Anthropic(api_key=os.getenv(\"ANTHROPIC_API_KEY\"))"
   ]
  },
  {
   "cell_type": "code",
   "execution_count": 8,
   "id": "c34c4a19",
   "metadata": {},
   "outputs": [],
   "source": [
    "def compare_models():\n",
    "  models = [\"claude-3-haiku-20240307\", \"claude-3-5-sonnet-20240620\", \"claude-3-opus-20240229\"]\n",
    "  task = \"\"\"\n",
    "    다음 문제를 해결하십시오.\n",
    "    <문제>\n",
    "    4명의 용의자 중 3명은 진실을 말하고, 1명은 거짓말을 합니다.\n",
    "    A는 B가 범인이다라고 말합니다.\n",
    "    B는 C가 범인이다라고 말합니다.\n",
    "    C는 D가 범인이다라고 말합니다.\n",
    "    D는 C가 범인이다라고 말합니다.\n",
    "    </문제>\n",
    "    이 문제에 대해서 해결할 수 없다면 해결할 수 없다고 말하십시오.\n",
    "  \"\"\"\n",
    "  for model in models:\n",
    "    # print(model)\n",
    "    answers = []\n",
    "    for _ in range(5):\n",
    "      response = client.messages.create(\n",
    "        model=model,\n",
    "        messages=[\n",
    "          {\"role\": \"user\", \"content\": task}\n",
    "        ],\n",
    "        max_tokens=1000,\n",
    "      )\n",
    "      answers.append(response.content[0].text)\n",
    "      answers.append(\"***\")\n",
    "    display(Markdown(f\"## Model: {model}\"))\n",
    "    for i, answer in enumerate(answers):\n",
    "      display(Markdown(f\"{i+1}. {answer}\"))\n",
    "      print(\"\\n\\n\")"
   ]
  },
  {
   "cell_type": "code",
   "execution_count": 9,
   "id": "1a85eacb",
   "metadata": {},
   "outputs": [
    {
     "data": {
      "text/markdown": [
       "## Model: claude-3-haiku-20240307"
      ],
      "text/plain": [
       "<IPython.core.display.Markdown object>"
      ]
     },
     "metadata": {},
     "output_type": "display_data"
    },
    {
     "data": {
      "text/markdown": [
       "1. 이 문제의 답을 찾기 위해서는 서로 모순되는 정보가 있기 때문에 추가적인 정보가 필요합니다. 주어진 정보만으로는 누가 범인인지 확실하게 판단할 수 없습니다.\n",
       "\n",
       "예를 들어, A와 B가 진실을 말하고 있다면 C가 범인이지만, A와 B가 거짓말을 하고 있다면 D가 범인일 수 있습니다. 또한 D가 진실을 말하고 있다면 C가 범인이지만, D가 거짓말을 하고 있다면 C가 범인일 수 없습니다.\n",
       "\n",
       "따라서 이 문제를 해결하기 위해서는 추가적인 정보가 필요하며, 주어진 정보만으로는 누가 범인인지 확실하게 판단할 수 없습니다."
      ],
      "text/plain": [
       "<IPython.core.display.Markdown object>"
      ]
     },
     "metadata": {},
     "output_type": "display_data"
    },
    {
     "name": "stdout",
     "output_type": "stream",
     "text": [
      "\n",
      "\n",
      "\n"
     ]
    },
    {
     "data": {
      "text/markdown": [
       "2. ***"
      ],
      "text/plain": [
       "<IPython.core.display.Markdown object>"
      ]
     },
     "metadata": {},
     "output_type": "display_data"
    },
    {
     "name": "stdout",
     "output_type": "stream",
     "text": [
      "\n",
      "\n",
      "\n"
     ]
    },
    {
     "data": {
      "text/markdown": [
       "3. 이 문제를 해결하기 위해서는 다음과 같은 논리적 접근이 필요합니다:\n",
       "\n",
       "1. A가 B가 범인이라고 말하고 있습니다. \n",
       "2. B가 C가 범인이라고 말하고 있습니다.\n",
       "3. C가 D가 범인이라고 말하고 있습니다.\n",
       "4. D가 C가 범인이라고 말하고 있습니다.\n",
       "\n",
       "문제에서 4명의 용의자 중 3명은 진실을 말하고 1명은 거짓말을 한다고 했습니다.\n",
       "\n",
       "이 정보를 바탕으로 생각해보면, 아래와 같은 경우가 가능합니다:\n",
       "\n",
       "1. A, B, D가 진실을 말하고 C가 거짓말을 하는 경우\n",
       "2. A, C, D가 진실을 말하고 B가 거짓말을 하는 경우\n",
       "\n",
       "그 외에는 모순이 발생하여 해결할 수 없습니다.\n",
       "\n",
       "따라서 이 문제에 대해서는 최종적인 결론을 내릴 수 없다고 말할 수 있습니다. 주어진 정보만으로는 범인을 특정할 수 없습니다."
      ],
      "text/plain": [
       "<IPython.core.display.Markdown object>"
      ]
     },
     "metadata": {},
     "output_type": "display_data"
    },
    {
     "name": "stdout",
     "output_type": "stream",
     "text": [
      "\n",
      "\n",
      "\n"
     ]
    },
    {
     "data": {
      "text/markdown": [
       "4. ***"
      ],
      "text/plain": [
       "<IPython.core.display.Markdown object>"
      ]
     },
     "metadata": {},
     "output_type": "display_data"
    },
    {
     "name": "stdout",
     "output_type": "stream",
     "text": [
      "\n",
      "\n",
      "\n"
     ]
    },
    {
     "data": {
      "text/markdown": [
       "5. 이 문제에 대해서는 해결할 수 없습니다.\n",
       "\n",
       "이유는 다음과 같습니다:\n",
       "\n",
       "1. 4명의 용의자 중 3명은 진실을 말하고 1명은 거짓말을 한다고 했습니다.\n",
       "2. A는 B가 범인이라고 말했고, B는 C가 범인이라고 말했습니다.\n",
       "3. C는 D가 범인이라고 말했고, D는 C가 범인이라고 말했습니다.\n",
       "4. 만약 A와 B가 진실을 말한다면, C와 D 중 1명이 거짓말을 해야 합니다.\n",
       "5. 하지만 C와 D가 서로 상반된 말을 했기 때문에, 이 문제에서는 범인을 확실하게 특정할 수 없습니다.\n",
       "6. 따라서 이 문제에 대해서는 해결할 수 없습니다."
      ],
      "text/plain": [
       "<IPython.core.display.Markdown object>"
      ]
     },
     "metadata": {},
     "output_type": "display_data"
    },
    {
     "name": "stdout",
     "output_type": "stream",
     "text": [
      "\n",
      "\n",
      "\n"
     ]
    },
    {
     "data": {
      "text/markdown": [
       "6. ***"
      ],
      "text/plain": [
       "<IPython.core.display.Markdown object>"
      ]
     },
     "metadata": {},
     "output_type": "display_data"
    },
    {
     "name": "stdout",
     "output_type": "stream",
     "text": [
      "\n",
      "\n",
      "\n"
     ]
    },
    {
     "data": {
      "text/markdown": [
       "7. 이 문제를 해결하기 위해서는 추가적인 정보가 필요합니다. 제공된 정보만으로는 누가 범인인지 확실하게 판단할 수 없습니다.\n",
       "\n",
       "용의자 4명 중 3명은 진실을 말하고 1명은 거짓말을 한다는 정보만으로는 누가 진실을 말하고 누가 거짓말을 하는지 알 수 없습니다. 따라서 범인을 특정할 수 없습니다.\n",
       "\n",
       "이 문제를 해결하기 위해서는 다음과 같은 추가 정보가 필요할 것 같습니다:\n",
       "\n",
       "1. 각 용의자가 진실을 말하는지 거짓말을 하는지에 대한 단서\n",
       "2. 범인이 아닌 용의자들의 진술이 서로 일치하는지 여부\n",
       "3. 다른 물증이나 증거 정보\n",
       "\n",
       "이러한 추가 정보가 제공된다면 범인을 특정할 수 있을 것입니다. 하지만 현재 주어진 정보만으로는 범인을 확실하게 밝힐 수 없습니다."
      ],
      "text/plain": [
       "<IPython.core.display.Markdown object>"
      ]
     },
     "metadata": {},
     "output_type": "display_data"
    },
    {
     "name": "stdout",
     "output_type": "stream",
     "text": [
      "\n",
      "\n",
      "\n"
     ]
    },
    {
     "data": {
      "text/markdown": [
       "8. ***"
      ],
      "text/plain": [
       "<IPython.core.display.Markdown object>"
      ]
     },
     "metadata": {},
     "output_type": "display_data"
    },
    {
     "name": "stdout",
     "output_type": "stream",
     "text": [
      "\n",
      "\n",
      "\n"
     ]
    },
    {
     "data": {
      "text/markdown": [
       "9. 이 문제를 해결하는 것은 쉽지 않습니다. 이 문제에는 명확한 해답이 없는 것 같습니다.\n",
       "\n",
       "먼저, 문제에서 제시된 조건을 살펴보면 다음과 같습니다:\n",
       "- 4명의 용의자 중 3명은 진실을 말하고, 1명은 거짓말을 합니다.\n",
       "- A는 B가 범인이라고 말합니다.\n",
       "- B는 C가 범인이라고 말합니다.\n",
       "- C는 D가 범인이라고 말합니다.\n",
       "- D는 C가 범인이라고 말합니다.\n",
       "\n",
       "이 정보만으로는 누가 진범인지를 판단할 수 없습니다. 다음과 같은 경우가 모두 가능합니다:\n",
       "1. A와 B가 진실을 말하고, C와 D가 거짓말을 하는 경우\n",
       "2. A와 D가 진실을 말하고, B와 C가 거짓말을 하는 경우\n",
       "3. B와 D가 진실을 말하고, A와 C가 거짓말을 하는 경우\n",
       "\n",
       "따라서 이 문제는 해결할 수 없다고 말할 수 있습니다. 추가적인 정보가 필요할 것 같습니다."
      ],
      "text/plain": [
       "<IPython.core.display.Markdown object>"
      ]
     },
     "metadata": {},
     "output_type": "display_data"
    },
    {
     "name": "stdout",
     "output_type": "stream",
     "text": [
      "\n",
      "\n",
      "\n"
     ]
    },
    {
     "data": {
      "text/markdown": [
       "10. ***"
      ],
      "text/plain": [
       "<IPython.core.display.Markdown object>"
      ]
     },
     "metadata": {},
     "output_type": "display_data"
    },
    {
     "name": "stdout",
     "output_type": "stream",
     "text": [
      "\n",
      "\n",
      "\n"
     ]
    },
    {
     "data": {
      "text/markdown": [
       "## Model: claude-3-5-sonnet-20240620"
      ],
      "text/plain": [
       "<IPython.core.display.Markdown object>"
      ]
     },
     "metadata": {},
     "output_type": "display_data"
    },
    {
     "data": {
      "text/markdown": [
       "1. 이 문제는 주어진 정보만으로는 명확하게 해결할 수 없습니다.\n",
       "\n",
       "이유는 다음과 같습니다:\n",
       "\n",
       "1. 4명 중 3명이 진실을 말하고 1명이 거짓말을 한다는 것은 알지만, 누가 거짓말을 하는지 특정할 수 없습니다.\n",
       "\n",
       "2. 각 사람의 진술이 서로 다른 사람을 가리키고 있어, 순환적인 구조를 형성하고 있습니다.\n",
       "\n",
       "3. 거짓말을 하는 사람이 누구인지에 따라 범인이 달라질 수 있습니다.\n",
       "\n",
       "4. 범인이 진실을 말하는 3명 중 한 명일 수도 있고, 거짓말을 하는 1명일 수도 있습니다.\n",
       "\n",
       "따라서 주어진 정보만으로는 누가 범인인지 확실하게 결정할 수 없습니다. 추가적인 정보나 단서가 필요합니다."
      ],
      "text/plain": [
       "<IPython.core.display.Markdown object>"
      ]
     },
     "metadata": {},
     "output_type": "display_data"
    },
    {
     "name": "stdout",
     "output_type": "stream",
     "text": [
      "\n",
      "\n",
      "\n"
     ]
    },
    {
     "data": {
      "text/markdown": [
       "2. ***"
      ],
      "text/plain": [
       "<IPython.core.display.Markdown object>"
      ]
     },
     "metadata": {},
     "output_type": "display_data"
    },
    {
     "name": "stdout",
     "output_type": "stream",
     "text": [
      "\n",
      "\n",
      "\n"
     ]
    },
    {
     "data": {
      "text/markdown": [
       "3. 이 문제는 주어진 정보만으로는 정확히 누가 범인인지 결정할 수 없습니다. 하지만 몇 가지 결론을 도출할 수 있습니다:\n",
       "\n",
       "1. 3명이 진실을 말하고 1명이 거짓말을 한다는 조건에 따라, 적어도 두 명의 진술은 일치해야 합니다.\n",
       "\n",
       "2. C와 D의 진술이 서로를 범인이라고 지목하며 일치합니다. 이는 두 가지 가능성을 제시합니다:\n",
       "   a) C와 D 모두 진실을 말하고 있고, 둘 중 하나가 범인입니다.\n",
       "   b) C와 D 중 한 명이 거짓말을 하고 있고, 다른 한 명이 범인입니다.\n",
       "\n",
       "3. A와 B의 진술은 서로 다른 사람을 지목하고 있으므로, 둘 다 진실을 말하고 있을 수 없습니다.\n",
       "\n",
       "결론적으로, 범인은 C 또는 D 중 한 명이지만, 정확히 누구인지는 결정할 수 없습니다. 또한 A와 B 중 한 명은 반드시 거짓말을 하고 있습니다."
      ],
      "text/plain": [
       "<IPython.core.display.Markdown object>"
      ]
     },
     "metadata": {},
     "output_type": "display_data"
    },
    {
     "name": "stdout",
     "output_type": "stream",
     "text": [
      "\n",
      "\n",
      "\n"
     ]
    },
    {
     "data": {
      "text/markdown": [
       "4. ***"
      ],
      "text/plain": [
       "<IPython.core.display.Markdown object>"
      ]
     },
     "metadata": {},
     "output_type": "display_data"
    },
    {
     "name": "stdout",
     "output_type": "stream",
     "text": [
      "\n",
      "\n",
      "\n"
     ]
    },
    {
     "data": {
      "text/markdown": [
       "5. 이 문제는 주어진 정보만으로는 명확하게 해결할 수 없습니다.\n",
       "\n",
       "이유는 다음과 같습니다:\n",
       "\n",
       "1. 4명 중 3명이 진실을 말하고 1명이 거짓말을 한다는 것은 알지만, 누가 거짓말을 하는지 특정할 수 없습니다.\n",
       "\n",
       "2. 각 사람의 진술만으로는 누가 범인인지 확실하게 판단할 수 없습니다.\n",
       "\n",
       "3. 거짓말을 하는 사람이 누구냐에 따라 범인이 달라질 수 있습니다.\n",
       "\n",
       "4. 여러 가지 가능성이 존재하며, 이 중 어떤 것이 사실인지 결정할 추가 정보가 없습니다.\n",
       "\n",
       "따라서 주어진 정보만으로는 범인을 특정하거나 문제를 완전히 해결할 수 없습니다. 추가적인 정보나 단서가 필요합니다."
      ],
      "text/plain": [
       "<IPython.core.display.Markdown object>"
      ]
     },
     "metadata": {},
     "output_type": "display_data"
    },
    {
     "name": "stdout",
     "output_type": "stream",
     "text": [
      "\n",
      "\n",
      "\n"
     ]
    },
    {
     "data": {
      "text/markdown": [
       "6. ***"
      ],
      "text/plain": [
       "<IPython.core.display.Markdown object>"
      ]
     },
     "metadata": {},
     "output_type": "display_data"
    },
    {
     "name": "stdout",
     "output_type": "stream",
     "text": [
      "\n",
      "\n",
      "\n"
     ]
    },
    {
     "data": {
      "text/markdown": [
       "7. 이 문제는 주어진 정보만으로는 완전히 해결할 수 없습니다. 그 이유는 다음과 같습니다:\n",
       "\n",
       "1. 4명 중 3명이 진실을 말하고 1명이 거짓말을 한다는 것은 알지만, 누가 거짓말을 하는지 특정할 수 없습니다.\n",
       "\n",
       "2. 각 사람의 진술이 서로를 가리키고 있어, 순환적인 구조를 형성하고 있습니다.\n",
       "\n",
       "3. 거짓말을 하는 사람이 누구인지에 따라 범인이 달라질 수 있습니다.\n",
       "\n",
       "4. 범인이 진실을 말하는 3명 중 한 명일 수도 있고, 거짓말을 하는 1명일 수도 있습니다.\n",
       "\n",
       "따라서 이 정보만으로는 누가 범인인지 확실하게 특정할 수 없습니다. 추가적인 정보나 단서가 필요합니다."
      ],
      "text/plain": [
       "<IPython.core.display.Markdown object>"
      ]
     },
     "metadata": {},
     "output_type": "display_data"
    },
    {
     "name": "stdout",
     "output_type": "stream",
     "text": [
      "\n",
      "\n",
      "\n"
     ]
    },
    {
     "data": {
      "text/markdown": [
       "8. ***"
      ],
      "text/plain": [
       "<IPython.core.display.Markdown object>"
      ]
     },
     "metadata": {},
     "output_type": "display_data"
    },
    {
     "name": "stdout",
     "output_type": "stream",
     "text": [
      "\n",
      "\n",
      "\n"
     ]
    },
    {
     "data": {
      "text/markdown": [
       "9. 이 문제는 주어진 정보만으로는 정확히 누가 범인인지 결정할 수 없습니다. 그 이유는 다음과 같습니다:\n",
       "\n",
       "1. 4명 중 3명이 진실을 말하고 1명이 거짓말을 한다는 것은 알지만, 누가 거짓말을 하는지 특정할 수 없습니다.\n",
       "\n",
       "2. 각 사람의 진술이 서로 다른 사람을 지목하고 있어, 누군가 한 명이 거짓말을 하고 있다는 것은 확실하지만, 그 사람이 누구인지 확정할 수 없습니다.\n",
       "\n",
       "3. C와 D가 서로를 범인이라고 지목하고 있어, 이 둘 중 한 명은 반드시 거짓말을 하고 있습니다. 하지만 둘 중 누가 거짓말을 하는지, 또는 이 둘 외의 다른 사람이 거짓말을 하는지 판단할 수 없습니다.\n",
       "\n",
       "따라서 이 문제는 주어진 정보만으로는 해결할 수 없습니다. 범인을 특정하거나 거짓말을 하는 사람을 확실히 판별하기 위해서는 추가적인 정보가 필요합니다."
      ],
      "text/plain": [
       "<IPython.core.display.Markdown object>"
      ]
     },
     "metadata": {},
     "output_type": "display_data"
    },
    {
     "name": "stdout",
     "output_type": "stream",
     "text": [
      "\n",
      "\n",
      "\n"
     ]
    },
    {
     "data": {
      "text/markdown": [
       "10. ***"
      ],
      "text/plain": [
       "<IPython.core.display.Markdown object>"
      ]
     },
     "metadata": {},
     "output_type": "display_data"
    },
    {
     "name": "stdout",
     "output_type": "stream",
     "text": [
      "\n",
      "\n",
      "\n"
     ]
    },
    {
     "data": {
      "text/markdown": [
       "## Model: claude-3-opus-20240229"
      ],
      "text/plain": [
       "<IPython.core.display.Markdown object>"
      ]
     },
     "metadata": {},
     "output_type": "display_data"
    },
    {
     "data": {
      "text/markdown": [
       "1. 이 문제는 해결할 수 없습니다. \n",
       "\n",
       "제시된 조건만으로는 누가 거짓말을 하고 있는지, 누가 범인인지 특정할 수 없기 때문입니다. 각자 다른 사람을 범인으로 지목하고 있어서 모순이 발생하며, 주어진 정보만으로는 모순을 해결할 단서가 부족합니다. \n",
       "\n",
       "따라서 주어진 문제 조건만으로는 유일한 해를 도출할 수 없습니다."
      ],
      "text/plain": [
       "<IPython.core.display.Markdown object>"
      ]
     },
     "metadata": {},
     "output_type": "display_data"
    },
    {
     "name": "stdout",
     "output_type": "stream",
     "text": [
      "\n",
      "\n",
      "\n"
     ]
    },
    {
     "data": {
      "text/markdown": [
       "2. ***"
      ],
      "text/plain": [
       "<IPython.core.display.Markdown object>"
      ]
     },
     "metadata": {},
     "output_type": "display_data"
    },
    {
     "name": "stdout",
     "output_type": "stream",
     "text": [
      "\n",
      "\n",
      "\n"
     ]
    },
    {
     "data": {
      "text/markdown": [
       "3. 이 문제는 해결할 수 없습니다. \n",
       "\n",
       "주어진 정보만으로는 누가 거짓말을 하고 있는지, 누가 범인인지 명확하게 판단할 수 없기 때문입니다. \n",
       "\n",
       "각 용의자의 진술이 서로 모순되고 있어서, 이를 바탕으로 정확한 결론을 내리기 어렵습니다. 범인을 특정하기 위해서는 추가적인 정보나 증거가 필요할 것 같습니다."
      ],
      "text/plain": [
       "<IPython.core.display.Markdown object>"
      ]
     },
     "metadata": {},
     "output_type": "display_data"
    },
    {
     "name": "stdout",
     "output_type": "stream",
     "text": [
      "\n",
      "\n",
      "\n"
     ]
    },
    {
     "data": {
      "text/markdown": [
       "4. ***"
      ],
      "text/plain": [
       "<IPython.core.display.Markdown object>"
      ]
     },
     "metadata": {},
     "output_type": "display_data"
    },
    {
     "name": "stdout",
     "output_type": "stream",
     "text": [
      "\n",
      "\n",
      "\n"
     ]
    },
    {
     "data": {
      "text/markdown": [
       "5. 이 문제는 해결할 수 없습니다. \n",
       "\n",
       "주어진 조건만으로는 누가 진실을 말하고 누가 거짓말을 하는지 알 수 없기 때문입니다. 4명 모두 서로를 범인으로 지목하고 있어서 모순이 발생합니다. \n",
       "\n",
       "만약 추가적인 정보나 단서가 주어진다면 범인을 특정할 수 있을 것 같습니다. 하지만 현재 제시된 내용만으로는 논리적으로 모순되는 상황이라 범인을 특정하는 것이 불가능해 보입니다."
      ],
      "text/plain": [
       "<IPython.core.display.Markdown object>"
      ]
     },
     "metadata": {},
     "output_type": "display_data"
    },
    {
     "name": "stdout",
     "output_type": "stream",
     "text": [
      "\n",
      "\n",
      "\n"
     ]
    },
    {
     "data": {
      "text/markdown": [
       "6. ***"
      ],
      "text/plain": [
       "<IPython.core.display.Markdown object>"
      ]
     },
     "metadata": {},
     "output_type": "display_data"
    },
    {
     "name": "stdout",
     "output_type": "stream",
     "text": [
      "\n",
      "\n",
      "\n"
     ]
    },
    {
     "data": {
      "text/markdown": [
       "7. 이 문제는 해결할 수 있습니다. 진실을 말하는 사람들의 주장이 모순을 일으키므로, 진실을 말하지 않는 사람이 바로 범인입니다.\n",
       "\n",
       "A가 진실을 말한다면, B는 범인이고 거짓말을 하는 사람입니다. 하지만 B는 C가 범인이라고 말하고 있으므로 모순이 발생합니다. 따라서 A는 거짓말을 하고 있습니다.\n",
       "\n",
       "B가 진실을 말한다면, C는 범인이고 거짓말을 하는 사람입니다. 하지만 C는 D가 범인이라고 말하고 있으므로 모순이 발생합니다. 따라서 B도 진실을 말하지 않습니다.\n",
       "\n",
       "C와 D는 서로를 범인으로 지목하고 있습니다. 둘 중 하나는 거짓말을 하고 있어야 합니다.\n",
       "\n",
       "따라서 거짓말을 하는 사람, 즉 범인은 A입니다."
      ],
      "text/plain": [
       "<IPython.core.display.Markdown object>"
      ]
     },
     "metadata": {},
     "output_type": "display_data"
    },
    {
     "name": "stdout",
     "output_type": "stream",
     "text": [
      "\n",
      "\n",
      "\n"
     ]
    },
    {
     "data": {
      "text/markdown": [
       "8. ***"
      ],
      "text/plain": [
       "<IPython.core.display.Markdown object>"
      ]
     },
     "metadata": {},
     "output_type": "display_data"
    },
    {
     "name": "stdout",
     "output_type": "stream",
     "text": [
      "\n",
      "\n",
      "\n"
     ]
    },
    {
     "data": {
      "text/markdown": [
       "9. 이 문제는 해결할 수 없습니다. \n",
       "\n",
       "문제에서 제시된 조건만으로는 누가 진실을 말하고 누가 거짓말을 하는지 알 수 없기 때문입니다. \n",
       "\n",
       "A, B, C, D가 서로를 범인으로 지목하고 있지만, 이들 중 누가 진실을 말하는지 명확하지 않습니다. 진실을 말하는 3명이 누구이고 거짓말을 하는 1명이 누구인지에 따라 범인이 달라질 수 있습니다.\n",
       "\n",
       "따라서 주어진 정보만으로는 누가 범인인지 특정할 수 없어 이 문제는 해결 불가능합니다."
      ],
      "text/plain": [
       "<IPython.core.display.Markdown object>"
      ]
     },
     "metadata": {},
     "output_type": "display_data"
    },
    {
     "name": "stdout",
     "output_type": "stream",
     "text": [
      "\n",
      "\n",
      "\n"
     ]
    },
    {
     "data": {
      "text/markdown": [
       "10. ***"
      ],
      "text/plain": [
       "<IPython.core.display.Markdown object>"
      ]
     },
     "metadata": {},
     "output_type": "display_data"
    },
    {
     "name": "stdout",
     "output_type": "stream",
     "text": [
      "\n",
      "\n",
      "\n"
     ]
    }
   ],
   "source": [
    "compare_models()"
   ]
  },
  {
   "cell_type": "markdown",
   "id": "f71d605f",
   "metadata": {},
   "source": [
    "# 모델 파라미터 테스트"
   ]
  },
  {
   "cell_type": "code",
   "execution_count": null,
   "id": "62a9ce43",
   "metadata": {},
   "outputs": [],
   "source": [
    "prompt = \"\"\"당신은 주어진 입력을 바탕으로 인기 있는 소설을 작성하는 임무를 맡았습니다. 목표는 지정된 장르의 관행을 준수하면서 목표 독자층에게 어필하는 매력적이고 시장성 있는 이야기를 만드는 것입니다.\n",
    "\n",
    "<characters> \n",
    "주인공: 지민, 27세 여성. IT 회사 직원이지만 비밀리에 초능력을 가지고 있음. 목표는 능력을 숨기며 평범한 삶을 사는 것.\n",
    "남자 주인공: 준호, 30세 남성. 비밀 요원으로 초능력자들을 찾는 임무를 맡고 있음. 지민에게 끌리지만 의무와 감정 사이에서 갈등함.\n",
    "적대자: 서진, 35세 여성. 초능력자들을 이용해 세계를 지배하려는 비밀 조직의 리더.\n",
    "</characters>\n",
    "\n",
    "<plot> \n",
    "지민의 능력이 우연히 드러나면서 준호의 주목을 받게 됨. 둘은 서로를 경계하다가 점점 가까워지지만, 서진의 조직이 지민을 노리면서 위험에 빠짐. 준호와 지민은 힘을 합쳐 조직에 맞서 싸우며 사랑에 빠짐.\n",
    "</plot> \n",
    "\n",
    "<setting> \n",
    "서울의 번화가. 현대적인 도시 풍경과 첨단 기술, 그리고 숨겨진 초능력 세계가 공존하는 곳.\n",
    "</setting>\n",
    "\n",
    "<point_of_view>\n",
    "3인칭 제한적 시점. 주로 지민과 준호의 관점에서 이야기를 전개.\n",
    "</point_of_view>\n",
    "\n",
    "<conflict> \n",
    "내적 갈등: 지민의 정체성 혼란, 준호의 의무와 감정 사이의 갈등\n",
    "외적 갈등: 서진의 조직과의 대립, 사회의 편견과 두려움\n",
    "</conflict> \n",
    "\n",
    "<theme> \n",
    "진정한 자아 받아들이기, 신뢰와 사랑의 힘, 다름을 인정하는 사회\n",
    "</theme>\n",
    "\n",
    "<structure> \n",
    "3부 구조. 1부: 능력 발각과 만남, 2부: 관계 발전과 위기 고조, 3부: 최종 대결과 해결\n",
    "</structure>\n",
    "\n",
    "<style> \n",
    "현대적이고 감각적인 문체. 때로는 유머러스하게, 때로는 긴장감 있게 서술.\n",
    "</style>\n",
    "\n",
    "<dialogue> \n",
    "\"네 능력이 위험할 수 있어. 하지만 난 널 지키고 싶어.\" (준호)\n",
    "\"내 능력은 저주가 아니야. 이젠 알아. 이건 내 일부야.\" (지민)\n",
    "</dialogue>\n",
    "\n",
    "<description> \n",
    "\"지민의 손끝에서 푸른 빛이 춤추듯 일렁였다. 준호의 눈이 휘둥그레졌다. 서울의 밤하늘보다 더 아름다운 광경이었다.\"\n",
    "</description>\n",
    "\n",
    "<pacing> \n",
    "잔잔한 일상 묘사와 긴박한 액션 신을 번갈아가며 독자의 흥미를 유지.\n",
    "</pacing>\n",
    "\n",
    "위 소설의 구성 요소를 모두 활용해서 소설을 1부만 작성해주세요.\n",
    "\"\"\""
   ]
  },
  {
   "cell_type": "markdown",
   "id": "ca6e80e3",
   "metadata": {},
   "source": [
    "## temperature"
   ]
  },
  {
   "cell_type": "code",
   "execution_count": 18,
   "id": "01863708",
   "metadata": {},
   "outputs": [
    {
     "data": {
      "text/markdown": [
       "제 1부: 숨겨진 능력, 예기치 못한 만남\n",
       "\n",
       "서울의 화려한 네온사인이 밤하늘을 수놓는 강남역 부근. IT 회사에서 일하는 27세 지민은 퇴근길에 오늘도 평범한 일상을 되새기며 걸음을 재촉했다. 하지만 그녀의 평범함 뒤에는 누구에게도 말할 수 없는 비밀이 숨겨져 있었다.\n",
       "\n",
       "\"오늘도 무사히 넘어갔네.\" 지민은 안도의 한숨을 내쉬며 중얼거렸다. 그녀의 손끝에서 미세하게 푸른 빛이 일렁였다가 사라졌다. 지민은 재빨리 주변을 살폈다. 다행히 아무도 보지 않은 것 같았다.\n",
       "\n",
       "그때였다. \n",
       "\n",
       "\"잠깐만요!\" \n",
       "\n",
       "낯선 남자의 목소리에 지민은 흠칫 놀라 뒤를 돌아봤다. 30대 초반으로 보이는 남자가 그녀를 향해 다가오고 있었다. 깔끔한 정장 차림이었지만 어딘가 날카로운 분위기가 감돌았다.\n",
       "\n",
       "\"혹시... 방금 뭔가를 보셨나요?\" 지민이 조심스럽게 물었다.\n",
       "\n",
       "남자는 미소를 지으며 대답했다. \"아뇨, 그냥 지갑을 떨어뜨리신 것 같아서요.\"\n",
       "\n",
       "지민은 안도의 한숨을 내쉬며 감사 인사를 건넸다. 하지만 남자의 눈빛에서 뭔가 수상한 기색을 느꼈다.\n",
       "\n",
       "\"그럼 조심해서 가세요.\" 남자가 말했다.\n",
       "\n",
       "지민은 서둘러 그 자리를 벗어났다. 하지만 그녀도 모르는 사이에 남자의 눈에서 푸른 빛이 스쳐 지나갔다.\n",
       "\n",
       "다음 날, 회사에서.\n",
       "\n",
       "\"지민 씨, 새로 온 팀장님 소개할게요.\" \n",
       "\n",
       "동료의 말에 고개를 들어보니, 어제 그 남자가 서 있었다. 지민의 얼굴이 창백해졌다.\n",
       "\n",
       "\"안녕하세요. 최준호입니다. 잘 부탁드립니다.\"\n",
       "\n",
       "준호의 입가에 미소가 걸렸지만, 그의 눈빛은 날카로웠다. 지민은 심장이 쿵쾅거리는 것을 느꼈다. \n",
       "\n",
       "'설마... 내 비밀을 알고 있는 걸까?'\n",
       "\n",
       "그날 이후 지민의 일상은 뒤틀리기 시작했다. 준호는 자연스럽게 그녀에게 접근했고, 지민은 그를 경계하면서도 묘한 끌림을 느꼈다.\n",
       "\n",
       "\"지민 씨, 오늘 저녁 시간 있으세요? 회식하는데 꼭 같이 가요.\"\n",
       "\n",
       "준호의 제안에 지민은 망설였지만 거절할 수 없었다. \n",
       "\n",
       "회식 장소, 술기운이 오르자 동료들의 대화는 점점 흥미진진해졌다.\n",
       "\n",
       "\"야, 너희 초능력자 얘기 들어봤어? 요즘 뉴스에서 핫하던데.\"\n",
       "\n",
       "지민은 순간 긴장했다. 준호가 그녀를 주시하고 있었다.\n",
       "\n",
       "\"에이, 그런 거 있을 리가 없잖아.\" 지민이 무심한 척 말했다.\n",
       "\n",
       "준호가 천천히 입을 열었다. \"글쎄요. 세상엔 우리가 모르는 일들이 많죠.\"\n",
       "\n",
       "그 순간 지민의 손에서 푸른 빛이 새어나왔다. 깜짝 놀란 지민이 손을 숨기려 했지만 이미 늦었다. 준호의 눈이 번쩍 빛났다.\n",
       "\n",
       "\"역시 그랬군요, 지민 씨.\"\n",
       "\n",
       "지민은 자리를 박차고 일어났다. 준호가 그녀의 손목을 잡았다.\n",
       "\n",
       "\"도망가지 마세요. 당신을 해치려는 게 아닙니다.\"\n",
       "\n",
       "\"그럼 뭐예요? 당신은 누구죠?\" 지민이 떨리는 목소리로 물었다.\n",
       "\n",
       "준호는 주변을 살피더니 낮은 목소리로 말했다. \"저는... 당신 같은 사람들을 보호하는 일을 하고 있어요.\"\n",
       "\n",
       "지민의 눈이 커졌다. \"무슨 뜻이에요?\"\n",
       "\n",
       "\"세상엔 당신의 능력을 노리는 위험한 자들이 있어요. 제가 도와드리고 싶습니다.\"\n",
       "\n",
       "지민은 혼란스러웠다. 그토록 숨기고 싶었던 비밀이 들통 난 것도 모자라, 이제는 알 수 없는 위험에 노출된 것일까?\n",
       "\n",
       "그때, 갑자기 주변이 어두워지더니 날카로운 비명 소리가 들렸다. \n",
       "\n",
       "\"드디어 찾았네, 지민 씨.\"\n",
       "\n",
       "차가운 여자의 목소리. 지민과 준호는 경악했다. \n",
       "\n",
       "검은 옷을 입은 여자가 그들 앞에 나타났다. 서진이었다.\n",
       "\n",
       "\"준호, 이번엔 날 막지 못할 거야. 지민의 능력은 내 것이 될 테니까.\"\n",
       "\n",
       "준호는 지민을 감싸 안으며 외쳤다. \"서진! 물러나!\"\n",
       "\n",
       "지민의 손에서 푸른 빛이 강렬하게 빛났다. 준호의 눈에서도 같은 빛이 번쩍였다.\n",
       "\n",
       "\"지민 씨, 이제 도망칠 필요 없어요. 함께 맞서 싸워요.\"\n",
       "\n",
       "지민은 두려움과 혼란 속에서도 이상한 안도감을 느꼈다. 처음으로 자신의 진짜 모습을 누군가와 공유하는 순간이었다.\n",
       "\n",
       "서진의 공격이 시작되고, 지민과 준호의 능력이 폭발했다. 서울의 밤하늘은 이들의 대결로 인해 형형색색으로 물들어갔다."
      ],
      "text/plain": [
       "<IPython.core.display.Markdown object>"
      ]
     },
     "metadata": {},
     "output_type": "display_data"
    }
   ],
   "source": [
    "response = client.messages.create(\n",
    "  model = \"claude-3-5-sonnet-20240620\",\n",
    "  messages = [\n",
    "    {\"role\": \"user\", \"content\": prompt},\n",
    "  ],\n",
    "  max_tokens=2048,\n",
    "  temperature=1,\n",
    ")\n",
    "display(Markdown(response.content[0].text))"
   ]
  },
  {
   "cell_type": "code",
   "execution_count": 15,
   "id": "75081830",
   "metadata": {},
   "outputs": [
    {
     "data": {
      "text/markdown": [
       "<제1부: 숨겨진 능력, 예기치 못한 만남>\n",
       "\n",
       "서울의 화려한 네온사인이 밤하늘을 수놓는 강남역 근처. 지민은 퇴근길 인파 속에서 걸음을 재촉했다. 27년간 숨겨온 비밀이 그녀의 가슴을 무겁게 누르고 있었다. \n",
       "\n",
       "\"오늘도 무사히 넘어갔어.\" 지민은 안도의 한숨을 내쉬었다.\n",
       "\n",
       "그때였다. 앞서가던 노인이 갑자기 비틀거렸다. 지민의 손이 저절로 뻗어나갔다. 순간 그녀의 손끝에서 푸른빛이 일렁였고, 노인은 중심을 잡았다.\n",
       "\n",
       "\"괜찮으세요?\" 지민이 노인에게 다가가려는 순간, 누군가 그녀의 팔을 잡았다.\n",
       "\n",
       "\"실례합니다. 잠깐 이야기 좀 할 수 있을까요?\"\n",
       "\n",
       "지민은 놀라 뒤를 돌아보았다. 키 큰 남자가 그녀를 뚫어지게 쳐다보고 있었다. \n",
       "\n",
       "\"저는 국가정보원 소속 준호라고 합니다. 방금 그 일에 대해 이야기를 나누고 싶습니다.\"\n",
       "\n",
       "지민의 심장이 쿵쾅거렸다. '들켰다. 27년간 숨겨온 비밀이 이렇게 무너지는 건가.'\n",
       "\n",
       "\"무슨 말씀이신지 모르겠어요. 전 그냥 지나가는 사람일 뿐이에요.\" 지민이 도망치려 했지만, 준호의 손아귀력은 강했다.\n",
       "\n",
       "\"당신의 능력, 알고 있습니다. 우리가 얘기를 나눠야 할 것 같군요.\"\n",
       "\n",
       "지민은 공포에 질렸다. 그녀의 평범한 일상이 순식간에 무너져 내리는 것 같았다.\n",
       "\n",
       "\"걱정 마세요. 해치려는 게 아닙니다. 오히려 당신을 보호하고 싶어요.\"\n",
       "\n",
       "준호의 목소리에 진심이 묻어났다. 지민은 잠시 망설였다. \n",
       "\n",
       "\"좋아요. 하지만 여기서는 안 돼요. 조용한 곳으로 가죠.\"\n",
       "\n",
       "두 사람은 근처 카페로 향했다. 준호는 지민에게 초능력자의 존재와 그들을 노리는 위험한 조직에 대해 설명했다. \n",
       "\n",
       "\"당신 같은 능력자들이 위험에 빠질 수 있어요. 우리가 보호해 드리겠습니다.\"\n",
       "\n",
       "지민은 혼란스러웠다. 그녀의 능력이 축복인지 저주인지 항상 고민해왔다. 이제 그 능력 때문에 더 큰 소용돌이에 휘말리게 된 것이다.\n",
       "\n",
       "\"시간을 주세요. 생각할 시간이 필요해요.\"\n",
       "\n",
       "준호는 고개를 끄덕였다. \"알겠습니다. 하지만 조심하세요. 당신을 노리는 자들이 있을 거예요.\"\n",
       "\n",
       "카페를 나서는 순간, 지민은 어둠 속에서 자신을 지켜보는 눈길을 느꼈다. 서진의 부하들이었다. \n",
       "\n",
       "지민의 평화로운 일상은 끝이 났다. 이제 그녀의 진정한 정체성을 마주해야 할 시간이 온 것이다. 준호와 함께 위험에 맞서 싸울 것인가, 아니면 도망칠 것인가. 선택의 기로에 선 지민. 그녀의 운명은 이제부터 시작이었다."
      ],
      "text/plain": [
       "<IPython.core.display.Markdown object>"
      ]
     },
     "metadata": {},
     "output_type": "display_data"
    }
   ],
   "source": [
    "display(Markdown(response.content[0].text))"
   ]
  },
  {
   "cell_type": "code",
   "execution_count": 16,
   "id": "572c10dd",
   "metadata": {},
   "outputs": [],
   "source": [
    "response = client.messages.create(\n",
    "  model = \"claude-3-5-sonnet-20240620\",\n",
    "  messages = [\n",
    "    {\"role\": \"user\", \"content\": prompt},\n",
    "  ],\n",
    "  max_tokens=2048,\n",
    "  temperature=0,\n",
    ")"
   ]
  },
  {
   "cell_type": "code",
   "execution_count": 17,
   "id": "0c1de73e",
   "metadata": {},
   "outputs": [
    {
     "data": {
      "text/markdown": [
       "제 1부: 숨겨진 능력, 예기치 못한 만남\n",
       "\n",
       "서울의 화려한 네온사인이 밤하늘을 수놓는 강남역 부근. 지민은 퇴근길 인파 속에서 한숨을 내쉬며 걸음을 재촉했다. 27년 동안 숨겨온 비밀이 무거운 짐처럼 그녀의 어깨를 짓눌렀다.\n",
       "\n",
       "\"오늘도 무사히 넘어갔어.\" 지민은 속으로 중얼거렸다.\n",
       "\n",
       "그때였다. 앞서가던 노인이 갑자기 비틀거리며 쓰러지려 했다. 지민의 본능이 먼저 반응했다. 그녀의 손끝에서 푸른 빛이 일렁이더니, 노인의 몸을 감싸안았다. 순식간에 일어난 일이었다.\n",
       "\n",
       "\"괜찮으세요?\" 지민이 노인에게 다가가 물었다.\n",
       "\n",
       "\"네, 갑자기 어지러워서... 고맙습니다.\" 노인은 어리둥절한 표정으로 대답했다.\n",
       "\n",
       "지민은 주변을 살폈다. 아무도 눈치채지 못한 것 같았다. 안도의 한숨을 내쉬려는 순간, 한 남자와 눈이 마주쳤다. \n",
       "\n",
       "준호였다. 그는 지민을 뚫어지게 바라보고 있었다.\n",
       "\n",
       "\"방금 그거... 내가 본 게 맞나?\" 준호가 조심스레 물었다.\n",
       "\n",
       "지민의 심장이 쿵쾅거렸다. \"무슨 말씀이신지 모르겠어요.\"\n",
       "\n",
       "\"당신 손에서 나온 빛 말이에요. 초능력자... 맞죠?\"\n",
       "\n",
       "지민은 도망치고 싶었다. 하지만 준호의 눈빛에는 적의가 아닌 호기심이 가득했다.\n",
       "\n",
       "\"여기서 얘기하긴 좀 그렇네요. 근처 카페에서 이야기 나눌까요?\" 준호가 제안했다.\n",
       "\n",
       "지민은 잠시 망설였지만, 이미 들통난 마당에 도망칠 수도 없었다. \"알겠어요.\"\n",
       "\n",
       "카페에 앉은 두 사람. 준호가 먼저 입을 열었다.\n",
       "\n",
       "\"사실 저는 당신 같은 분들을 찾는 일을 하고 있어요.\"\n",
       "\n",
       "지민의 얼굴이 굳어졌다. \"그럼 저를 잡으러 온 건가요?\"\n",
       "\n",
       "준호가 고개를 저었다. \"아뇨, 그렇진 않아요. 단지... 보호하고 싶어요.\"\n",
       "\n",
       "\"보호요? 왜죠?\"\n",
       "\n",
       "\"위험한 사람들이 있어요. 당신 같은 능력자들을 이용하려는...\"\n",
       "\n",
       "지민은 혼란스러웠다. 평생 숨겨온 비밀이 하루아침에 드러난 것도 모자라, 이제는 위험까지 닥쳤다니.\n",
       "\n",
       "\"어떻게 해야 할지 모르겠어요.\" 지민이 중얼거렸다.\n",
       "\n",
       "준호는 지민의 손을 살며시 잡았다. \"함께 헤쳐나가요. 제가 도와드릴게요.\"\n",
       "\n",
       "그 순간, 카페 밖에서 요란한 소리가 들렸다. 검은 옷을 입은 남자들이 카페로 들이닥쳤다.\n",
       "\n",
       "\"준호 씨, 저 사람들이...\" 지민이 놀란 목소리로 말했다.\n",
       "\n",
       "\"제가 말한 위험한 사람들이에요. 어서 도망쳐요!\"\n",
       "\n",
       "준호가 지민의 손을 잡고 카페 뒷문으로 뛰쳐나갔다. 서울의 밤거리를 달리며, 지민은 자신의 평범한 일상이 영원히 끝났음을 직감했다.\n",
       "\n",
       "골목길에 숨어 숨을 고르던 두 사람. 준호가 지민을 바라보며 말했다.\n",
       "\n",
       "\"당신의 능력, 정말 아름답더라고요. 서울의 밤하늘보다 더 빛나는...\"\n",
       "\n",
       "지민은 얼굴을 붉혔다. 평생 저주라고만 생각했던 능력을 누군가 아름답다고 말해주는 건 처음이었다.\n",
       "\n",
       "\"앞으로 어떻게 해야 할까요?\" 지민이 물었다.\n",
       "\n",
       "\"함께 싸워요. 당신의 능력으로, 제 경험으로. 우리가 힘을 합치면 뭔가 달라질 거예요.\"\n",
       "\n",
       "지민은 잠시 고민했다. 그리고 결심했다.\n",
       "\n",
       "\"좋아요. 함께 해보죠.\"\n",
       "\n",
       "두 사람의 손이 다시 맞잡혔다. 서울의 밤하늘 아래, 새로운 모험의 서막이 올랐다."
      ],
      "text/plain": [
       "<IPython.core.display.Markdown object>"
      ]
     },
     "metadata": {},
     "output_type": "display_data"
    }
   ],
   "source": [
    "display(Markdown(response.content[0].text))"
   ]
  },
  {
   "cell_type": "markdown",
   "id": "66643fc7",
   "metadata": {},
   "source": [
    "## max_tokens"
   ]
  },
  {
   "cell_type": "code",
   "execution_count": null,
   "id": "3f41d97a",
   "metadata": {},
   "outputs": [
    {
     "data": {
      "text/markdown": [
       "제 1부: 숨"
      ],
      "text/plain": [
       "<IPython.core.display.Markdown object>"
      ]
     },
     "metadata": {},
     "output_type": "display_data"
    }
   ],
   "source": [
    "response = client.messages.create(\n",
    "  model = \"claude-3-5-sonnet-20240620\",\n",
    "  messages = [\n",
    "    {\"role\": \"user\", \"content\": prompt},\n",
    "  ],\n",
    "  max_tokens=1024,\n",
    "  temperature=0,\n",
    ")\n",
    "display(Markdown(response.content[0].text))"
   ]
  },
  {
   "cell_type": "code",
   "execution_count": null,
   "id": "de7a98e1",
   "metadata": {},
   "outputs": [
    {
     "data": {
      "text/markdown": [
       "제 1부: 숨겨진 능력, 예기치 못한 만남\n",
       "\n",
       "서울의 화려한 네온사인이 밤하늘을 수놓는 강남역 부근. IT 회사에서 야근을 마친 지민이 피곤한 발걸음을 옮기고 있었다. 27살, 평범해 보이는 그녀의 눈동자에 잠시 푸른 빛이 스쳐 지나갔다. 지민은 깜짝 놀라 주변을 살폈다. 다행히 아무도 눈치채지 못한 것 같았다.\n",
       "\n",
       "\"또 그랬잖아. 조심해야 해, 지민아.\"\n",
       "\n",
       "그녀는 작게 중얼거리며 발걸음을 재촉했다. 태어날 때부터 지민에겐 특별한 능력이 있었다. 감정을 읽고 조종할 수 있는 능력. 하지만 그녀는 이 능력을 저주라고 여겼고, 평범한 삶을 살기 위해 필사적으로 숨겨왔다.\n",
       "\n",
       "같은 시각, 근처 카페에서 30살의 준호가 누군가를 기다리고 있었다. 그의 날카로운 눈빛은 카페를 오가는 사람들을 면밀히 관찰하고 있었다. 준호는 국가 비밀 기관 소속 요원으로, 초능력자들을 찾아 감시하는 임무를 맡고 있었다.\n",
       "\n",
       "\"또 헛다리 짚은 건가...\"\n",
       "\n",
       "준호는 한숨을 내쉬며 "
      ],
      "text/plain": [
       "<IPython.core.display.Markdown object>"
      ]
     },
     "metadata": {},
     "output_type": "display_data"
    }
   ],
   "source": [
    "response = client.messages.create(\n",
    "  model = \"claude-3-5-sonnet-20240620\",\n",
    "  messages = [\n",
    "    {\"role\": \"user\", \"content\": prompt},\n",
    "  ],\n",
    "  max_tokens=512,\n",
    "  temperature=0,\n",
    ")\n",
    "display(Markdown(response.content[0].text))"
   ]
  },
  {
   "cell_type": "code",
   "execution_count": 21,
   "id": "5bd0a71d",
   "metadata": {},
   "outputs": [
    {
     "data": {
      "text/markdown": [
       "제 1부: 숨겨진 능력, 예기치 못한 만남\n",
       "\n",
       "서울의 화려한 네온사인이 밤하늘을 수놓는 강남역 부근. IT 회사에서 야근을 마친 지민이 피곤한 발걸음을 옮기고 있었다. 27살, 평범해 보이는 그녀의 눈동자에 잠시 푸른 빛이 스쳐 지나갔다. 지민은 깜짝 놀라 주변을 살폈다. 다행히 아무도 눈치채지 못한 것 같았다.\n",
       "\n",
       "\"또 그랬잖아. 조심해야 해, 지민아.\"\n",
       "\n",
       "그녀는 작게 중얼거리며 발걸음을 재촉했다. 태어날 때부터 지민에겐 특별한 능력이 있었다. 감정을 읽고 조종할 수 있는 능력. 하지만 그녀는 이 능력을 저주라고 여겼고, 평범한 삶을 살기 위해 필사적으로 숨겨왔다.\n",
       "\n",
       "같은 시각, 근처 카페에서 30살의 준호가 누군가를 기다리고 있었다. 그의 날카로운 눈빛은 카페를 오가는 사람들을 면밀히 관찰하고 있었다. 준호는 국가 비밀 기관 소속 요원으로, 초능력자들을 찾아 감시하는 임무를 맡고 있었다.\n",
       "\n",
       "\"또 헛다리 짚은 건가...\"\n",
       "\n",
       "준호는 한숨을 내쉬며 자리에서 일어났다. 그때였다. 카페를 빠져나가던 그의 어깨에 누군가가 부딪혔다.\n",
       "\n",
       "\"아, 죄송합니다!\"\n",
       "\n",
       "지민이었다. 그 순간, 준호의 손목에 찬 특수 장치가 미세하게 진동했다. 준호의 눈이 커졌다. 장치는 초능력자를 감지했을 때만 반응하는 것이었다.\n",
       "\n",
       "\"괜찮습니다. 제가 조심했어야 했네요.\"\n",
       "\n",
       "준호는 침착하게 대답하며 지민을 유심히 살폈다. 평범해 보이는 여성. 하지만 그의 직감은 달랐다.\n",
       "\n",
       "며칠 후, 지민의 회사.\n",
       "\n",
       "\"이번 프로젝트 담당하실 분을 소개합니다. 준호 씨입니다.\"\n",
       "\n",
       "지민은 놀라 고개를 들었다. 카페에서 마주쳤던 그 남자였다. 준호와 눈이 마주쳤다. 지민은 왠지 모를 불안감에 휩싸였다.\n",
       "\n",
       "그날 밤, 퇴근길.\n",
       "\n",
       "\"지민 씨, 같이 가시죠.\"\n",
       "\n",
       "준호의 갑작스러운 제안에 지민은 당황했다. 거절하고 싶었지만, 이상하게 끌리는 느낌도 들었다.\n",
       "\n",
       "\"네... 그럴까요?\"\n",
       "\n",
       "두 사람이 걸어가는 동안, 지민의 마음은 복잡했다. 준호에 대한 경계심과 동시에 묘한 설렘이 교차했다. 준호 역시 임무와 감정 사이에서 갈등하고 있었다.\n",
       "\n",
       "그때, 어둠 속에서 검은 차 한 대가 그들을 향해 돌진해왔다.\n",
       "\n",
       "\"조심해요!\"\n",
       "\n",
       "준호가 지민을 감싸 안으며 몸을 날렸다. 그 순간, 지민의 손에서 푸른 빛이 폭발적으로 터져 나왔다. 차는 마치 보이지 않는 벽에 부딪힌 듯 멈춰 섰다.\n",
       "\n",
       "\"역시... 네가 초능력자였어.\"\n",
       "\n",
       "준호의 말에 지민은 얼어붙었다. 그녀의 비밀이 드러난 것이다.\n",
       "\n",
       "차에서 내린 검은 옷의 남자들이 그들을 향해 다가왔다.\n",
       "\n",
       "\"준호 씨... 당신은 누구죠?\"\n",
       "\n",
       "지민이 떨리는 목소리로 물었다.\n",
       "\n",
       "\"설명할 시간이 없어요. 지금은 저를 믿고 따라와요.\"\n",
       "\n",
       "준호가 지민의 손을 잡았다. 그의 눈빛에는 결연함이 서려 있었다.\n",
       "\n",
       "\"하지만...\"\n",
       "\n",
       "\"네 능력이 위험할 수 있어. 하지만 난 널 지키고 싶어.\"\n",
       "\n",
       "준호의 진심 어린 말에 지민은 잠시 망설였지만, 이내 그의 손을 꼭 잡았다. 두 사람은 어둠 속으로 달렸다. 뒤에서는 총성이 울렸다.\n",
       "\n",
       "서울의 밤거리를 달리며, 지민의 머릿속은 혼란스러웠다. 평범한 삶을 꿈꾸던 그녀의 인생이 한순간에 뒤바뀐 것이다. 하지만 이상하게도 준호의 손을 잡고 있으니 안심이 되었다.\n",
       "\n",
       "한편, 도심 고층 빌딩의 어두운 사무실. 서진이 창밖을 내다보며 전화를 받았다.\n",
       "\n",
       "\"놓쳤다고? 그럴 리가 없잖아. 어떻게든 그 여자를 데려와. 그녀의 능력이 우리 계획의 열쇠야.\"\n",
       "\n",
       "서진의 눈빛이 차갑게 빛났다. 지민을 향한 추격전은 이제 막 시작되었다."
      ],
      "text/plain": [
       "<IPython.core.display.Markdown object>"
      ]
     },
     "metadata": {},
     "output_type": "display_data"
    }
   ],
   "source": [
    "response = client.messages.create(\n",
    "  model = \"claude-3-5-sonnet-20240620\",\n",
    "  messages = [\n",
    "    {\"role\": \"user\", \"content\": prompt},\n",
    "  ],\n",
    "  max_tokens=5096,\n",
    "  temperature=0,\n",
    ")\n",
    "display(Markdown(response.content[0].text))"
   ]
  },
  {
   "cell_type": "markdown",
   "id": "4533d631",
   "metadata": {},
   "source": [
    "## stop_sequence"
   ]
  },
  {
   "cell_type": "code",
   "execution_count": 22,
   "id": "d30927ca",
   "metadata": {},
   "outputs": [],
   "source": [
    "prompt2 = \"\"\"당신은 주어진 입력을 바탕으로 인기 있는 소설을 작성하는 임무를 맡았습니다. 목표는 지정된 장르의 관행을 준수하면서 목표 독자층에게 어필하는 매력적이고 시장성 있는 이야기를 만드는 것입니다.\n",
    "\n",
    "<characters> \n",
    "주인공: 지민, 27세 여성. IT 회사 직원이지만 비밀리에 초능력을 가지고 있음. 목표는 능력을 숨기며 평범한 삶을 사는 것.\n",
    "남자 주인공: 준호, 30세 남성. 비밀 요원으로 초능력자들을 찾는 임무를 맡고 있음. 지민에게 끌리지만 의무와 감정 사이에서 갈등함.\n",
    "적대자: 서진, 35세 여성. 초능력자들을 이용해 세계를 지배하려는 비밀 조직의 리더.\n",
    "</characters>\n",
    "\n",
    "<plot> \n",
    "지민의 능력이 우연히 드러나면서 준호의 주목을 받게 됨. 둘은 서로를 경계하다가 점점 가까워지지만, 서진의 조직이 지민을 노리면서 위험에 빠짐. 준호와 지민은 힘을 합쳐 조직에 맞서 싸우며 사랑에 빠짐.\n",
    "</plot> \n",
    "\n",
    "<setting> \n",
    "서울의 번화가. 현대적인 도시 풍경과 첨단 기술, 그리고 숨겨진 초능력 세계가 공존하는 곳.\n",
    "</setting>\n",
    "\n",
    "<point_of_view>\n",
    "3인칭 제한적 시점. 주로 지민과 준호의 관점에서 이야기를 전개.\n",
    "</point_of_view>\n",
    "\n",
    "<conflict> \n",
    "내적 갈등: 지민의 정체성 혼란, 준호의 의무와 감정 사이의 갈등\n",
    "외적 갈등: 서진의 조직과의 대립, 사회의 편견과 두려움\n",
    "</conflict> \n",
    "\n",
    "<theme> \n",
    "진정한 자아 받아들이기, 신뢰와 사랑의 힘, 다름을 인정하는 사회\n",
    "</theme>\n",
    "\n",
    "<structure> \n",
    "3부 구조. 1부: 능력 발각과 만남, 2부: 관계 발전과 위기 고조, 3부: 최종 대결과 해결\n",
    "</structure>\n",
    "\n",
    "<style> \n",
    "현대적이고 감각적인 문체. 때로는 유머러스하게, 때로는 긴장감 있게 서술.\n",
    "</style>\n",
    "\n",
    "<dialogue> \n",
    "\"네 능력이 위험할 수 있어. 하지만 난 널 지키고 싶어.\" (준호)\n",
    "\"내 능력은 저주가 아니야. 이젠 알아. 이건 내 일부야.\" (지민)\n",
    "</dialogue>\n",
    "\n",
    "<description> \n",
    "\"지민의 손끝에서 푸른 빛이 춤추듯 일렁였다. 준호의 눈이 휘둥그레졌다. 서울의 밤하늘보다 더 아름다운 광경이었다.\"\n",
    "</description>\n",
    "\n",
    "<pacing> \n",
    "잔잔한 일상 묘사와 긴박한 액션 신을 번갈아가며 독자의 흥미를 유지.\n",
    "</pacing>\n",
    "\n",
    "위 소설의 구성 요소를 모두 활용해서 소설을 1부만 작성해주세요.\n",
    "소설의 출력은 다음 output_format에 태그를 따라서 출력해주세요.\n",
    "<output_format>\n",
    "{{\n",
    "  \"title\": \"소설의 제목\",\n",
    "  \"content\": \"소설의 내용\",\n",
    "}}\n",
    "</output_format>\n",
    "\"\"\""
   ]
  },
  {
   "cell_type": "code",
   "execution_count": 24,
   "id": "90968762",
   "metadata": {},
   "outputs": [
    {
     "data": {
      "text/markdown": [
       "{\n",
       "  \"title\": \"숨겨진 빛\",\n",
       "  \"content\": \"서울의 밤거리는 네온사인과 스마트폰 불빛으로 반짝였다. 그 속에서 지민은 자신만의 빛을 숨기려 애쓰고 있었다. 27살, IT 회사 직원이라는 평범한 겉모습 뒤에 숨겨진 초능력은 그녀의 가장 큰 비밀이자 두려움이었다.\n",
       "\n",
       "'오늘도 무사히 넘어갔어.' 퇴근길, 지민은 안도의 한숨을 내쉬었다. 그때였다. \n",
       "\n",
       "\"잠깐만요!\" \n",
       "\n",
       "낯선 남자의 목소리에 지민은 흠칫 놀랐다. 뒤돌아보니 훤칠한 키의 남자가 그녀를 바라보고 있었다.\n",
       "\n",
       "\"혹시 이거 떨어뜨리신 건가요?\" 남자의 손에는 지민의 사원증이 들려 있었다.\n",
       "\n",
       "\"아, 네. 감사합니다.\" 지민은 안도하며 사원증을 받아들었다. 그 순간, 남자와 눈이 마주쳤다. 묘한 긴장감이 흘렀다.\n",
       "\n",
       "\"전 준호라고 합니다. 혹시 시간 되시면 커피 한잔할까요?\"\n",
       "\n",
       "지민은 망설였다. 하지만 준호의 미소에 마음이 흔들렸다. \"네, 좋아요.\"\n",
       "\n",
       "카페에서 둘은 이야기를 나눴다. 준호는 매력적이었고, 지민은 오랜만에 누군가와 편하게 대화를 나누는 기분이었다. 하지만 그녀는 알지 못했다. 준호의 진짜 정체를, 그리고 그가 그녀를 찾고 있었다는 사실을.\n",
       "\n",
       "며칠 후, 회사 앞. \n",
       "\n",
       "\"지민 씨, 또 만나네요.\" 준호가 환하게 웃으며 다가왔다.\n",
       "\n",
       "그 순간이었다. 횡단보도를 건너던 아이가 넘어졌고, 대형 트럭이 멈추지 못하고 달려오고 있었다. 지민의 본능이 움직였다. \n",
       "\n",
       "그녀의 손에서 푸른 빛이 뿜어져 나왔고, 아이를 감싸안았다. 트럭은 마치 투명한 벽에 부딪힌 듯 멈춰섰다. \n",
       "\n",
       "아수라장 속에서 지민은 준호와 눈이 마주쳤다. 그의 눈에는 놀라움과 함께 복잡한 감정이 어려 있었다.\n",
       "\n",
       "\"지민 씨... 당신이었군요.\"\n",
       "\n",
       "지민의 심장이 쿵쾅거렸다. 그녀의 비밀이 드러난 순간, 새로운 이야기가 시작되려 하고 있었다.\n",
       "\n",
       "멀리서 검은 세단 한 대가 그들을 지켜보고 있었다. 운전석의 서진은 차가운 미소를 지었다.\n",
       "\n",
       "\"드디어 찾았군. 준비해, 지민. 네 능력은 이제 내 것이 될 거야.\"\"\n"
      ],
      "text/plain": [
       "<IPython.core.display.Markdown object>"
      ]
     },
     "metadata": {},
     "output_type": "display_data"
    }
   ],
   "source": [
    "response = client.messages.create(\n",
    "  model = \"claude-3-5-sonnet-20240620\",\n",
    "  messages = [\n",
    "    {\"role\": \"user\", \"content\": prompt2},\n",
    "  ],\n",
    "  max_tokens=2048,\n",
    "  temperature=0,\n",
    "  stop_sequences=[\"}\"]\n",
    ")\n",
    "display(Markdown(response.content[0].text))"
   ]
  },
  {
   "cell_type": "code",
   "execution_count": null,
   "id": "cebaa304",
   "metadata": {},
   "outputs": [],
   "source": []
  }
 ],
 "metadata": {
  "kernelspec": {
   "display_name": "prompt_basic",
   "language": "python",
   "name": "python3"
  },
  "language_info": {
   "codemirror_mode": {
    "name": "ipython",
    "version": 3
   },
   "file_extension": ".py",
   "mimetype": "text/x-python",
   "name": "python",
   "nbconvert_exporter": "python",
   "pygments_lexer": "ipython3",
   "version": "3.13.2"
  }
 },
 "nbformat": 4,
 "nbformat_minor": 5
}
