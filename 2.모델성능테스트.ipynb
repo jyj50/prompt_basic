{
 "cells": [
  {
   "cell_type": "code",
   "execution_count": null,
   "id": "ecc8d156",
   "metadata": {},
   "outputs": [
    {
     "data": {
      "text/plain": [
       "True"
      ]
     },
     "execution_count": 3,
     "metadata": {},
     "output_type": "execute_result"
    }
   ],
   "source": [
    "from dotenv import load_dotenv\n",
    "import os\n",
    "from anthropic import Anthropic\n",
    "from IPython.display import display, Markdown\n",
    "load_dotenv()"
   ]
  },
  {
   "cell_type": "code",
   "execution_count": 2,
   "id": "1eabadfc",
   "metadata": {},
   "outputs": [],
   "source": [
    "client = Anthropic(api_key=os.getenv(\"ANTHROPIC_API_KEY\"))"
   ]
  },
  {
   "cell_type": "code",
   "execution_count": 8,
   "id": "c34c4a19",
   "metadata": {},
   "outputs": [],
   "source": [
    "def compare_models():\n",
    "  models = [\"claude-3-haiku-20240307\", \"claude-3-5-sonnet-20240620\", \"claude-3-opus-20240229\"]\n",
    "  task = \"\"\"\n",
    "    다음 문제를 해결하십시오.\n",
    "    <문제>\n",
    "    4명의 용의자 중 3명은 진실을 말하고, 1명은 거짓말을 합니다.\n",
    "    A는 B가 범인이다라고 말합니다.\n",
    "    B는 C가 범인이다라고 말합니다.\n",
    "    C는 D가 범인이다라고 말합니다.\n",
    "    D는 C가 범인이다라고 말합니다.\n",
    "    </문제>\n",
    "    이 문제에 대해서 해결할 수 없다면 해결할 수 없다고 말하십시오.\n",
    "  \"\"\"\n",
    "  for model in models:\n",
    "    # print(model)\n",
    "    answers = []\n",
    "    for _ in range(5):\n",
    "      response = client.messages.create(\n",
    "        model=model,\n",
    "        messages=[\n",
    "          {\"role\": \"user\", \"content\": task}\n",
    "        ],\n",
    "        max_tokens=1000,\n",
    "      )\n",
    "      answers.append(response.content[0].text)\n",
    "      answers.append(\"***\")\n",
    "    display(Markdown(f\"## Model: {model}\"))\n",
    "    for i, answer in enumerate(answers):\n",
    "      display(Markdown(f\"{i+1}. {answer}\"))\n",
    "      print(\"\\n\\n\")"
   ]
  },
  {
   "cell_type": "code",
   "execution_count": 9,
   "id": "1a85eacb",
   "metadata": {},
   "outputs": [
    {
     "data": {
      "text/markdown": [
       "## Model: claude-3-haiku-20240307"
      ],
      "text/plain": [
       "<IPython.core.display.Markdown object>"
      ]
     },
     "metadata": {},
     "output_type": "display_data"
    },
    {
     "data": {
      "text/markdown": [
       "1. 이 문제의 답을 찾기 위해서는 서로 모순되는 정보가 있기 때문에 추가적인 정보가 필요합니다. 주어진 정보만으로는 누가 범인인지 확실하게 판단할 수 없습니다.\n",
       "\n",
       "예를 들어, A와 B가 진실을 말하고 있다면 C가 범인이지만, A와 B가 거짓말을 하고 있다면 D가 범인일 수 있습니다. 또한 D가 진실을 말하고 있다면 C가 범인이지만, D가 거짓말을 하고 있다면 C가 범인일 수 없습니다.\n",
       "\n",
       "따라서 이 문제를 해결하기 위해서는 추가적인 정보가 필요하며, 주어진 정보만으로는 누가 범인인지 확실하게 판단할 수 없습니다."
      ],
      "text/plain": [
       "<IPython.core.display.Markdown object>"
      ]
     },
     "metadata": {},
     "output_type": "display_data"
    },
    {
     "name": "stdout",
     "output_type": "stream",
     "text": [
      "\n",
      "\n",
      "\n"
     ]
    },
    {
     "data": {
      "text/markdown": [
       "2. ***"
      ],
      "text/plain": [
       "<IPython.core.display.Markdown object>"
      ]
     },
     "metadata": {},
     "output_type": "display_data"
    },
    {
     "name": "stdout",
     "output_type": "stream",
     "text": [
      "\n",
      "\n",
      "\n"
     ]
    },
    {
     "data": {
      "text/markdown": [
       "3. 이 문제를 해결하기 위해서는 다음과 같은 논리적 접근이 필요합니다:\n",
       "\n",
       "1. A가 B가 범인이라고 말하고 있습니다. \n",
       "2. B가 C가 범인이라고 말하고 있습니다.\n",
       "3. C가 D가 범인이라고 말하고 있습니다.\n",
       "4. D가 C가 범인이라고 말하고 있습니다.\n",
       "\n",
       "문제에서 4명의 용의자 중 3명은 진실을 말하고 1명은 거짓말을 한다고 했습니다.\n",
       "\n",
       "이 정보를 바탕으로 생각해보면, 아래와 같은 경우가 가능합니다:\n",
       "\n",
       "1. A, B, D가 진실을 말하고 C가 거짓말을 하는 경우\n",
       "2. A, C, D가 진실을 말하고 B가 거짓말을 하는 경우\n",
       "\n",
       "그 외에는 모순이 발생하여 해결할 수 없습니다.\n",
       "\n",
       "따라서 이 문제에 대해서는 최종적인 결론을 내릴 수 없다고 말할 수 있습니다. 주어진 정보만으로는 범인을 특정할 수 없습니다."
      ],
      "text/plain": [
       "<IPython.core.display.Markdown object>"
      ]
     },
     "metadata": {},
     "output_type": "display_data"
    },
    {
     "name": "stdout",
     "output_type": "stream",
     "text": [
      "\n",
      "\n",
      "\n"
     ]
    },
    {
     "data": {
      "text/markdown": [
       "4. ***"
      ],
      "text/plain": [
       "<IPython.core.display.Markdown object>"
      ]
     },
     "metadata": {},
     "output_type": "display_data"
    },
    {
     "name": "stdout",
     "output_type": "stream",
     "text": [
      "\n",
      "\n",
      "\n"
     ]
    },
    {
     "data": {
      "text/markdown": [
       "5. 이 문제에 대해서는 해결할 수 없습니다.\n",
       "\n",
       "이유는 다음과 같습니다:\n",
       "\n",
       "1. 4명의 용의자 중 3명은 진실을 말하고 1명은 거짓말을 한다고 했습니다.\n",
       "2. A는 B가 범인이라고 말했고, B는 C가 범인이라고 말했습니다.\n",
       "3. C는 D가 범인이라고 말했고, D는 C가 범인이라고 말했습니다.\n",
       "4. 만약 A와 B가 진실을 말한다면, C와 D 중 1명이 거짓말을 해야 합니다.\n",
       "5. 하지만 C와 D가 서로 상반된 말을 했기 때문에, 이 문제에서는 범인을 확실하게 특정할 수 없습니다.\n",
       "6. 따라서 이 문제에 대해서는 해결할 수 없습니다."
      ],
      "text/plain": [
       "<IPython.core.display.Markdown object>"
      ]
     },
     "metadata": {},
     "output_type": "display_data"
    },
    {
     "name": "stdout",
     "output_type": "stream",
     "text": [
      "\n",
      "\n",
      "\n"
     ]
    },
    {
     "data": {
      "text/markdown": [
       "6. ***"
      ],
      "text/plain": [
       "<IPython.core.display.Markdown object>"
      ]
     },
     "metadata": {},
     "output_type": "display_data"
    },
    {
     "name": "stdout",
     "output_type": "stream",
     "text": [
      "\n",
      "\n",
      "\n"
     ]
    },
    {
     "data": {
      "text/markdown": [
       "7. 이 문제를 해결하기 위해서는 추가적인 정보가 필요합니다. 제공된 정보만으로는 누가 범인인지 확실하게 판단할 수 없습니다.\n",
       "\n",
       "용의자 4명 중 3명은 진실을 말하고 1명은 거짓말을 한다는 정보만으로는 누가 진실을 말하고 누가 거짓말을 하는지 알 수 없습니다. 따라서 범인을 특정할 수 없습니다.\n",
       "\n",
       "이 문제를 해결하기 위해서는 다음과 같은 추가 정보가 필요할 것 같습니다:\n",
       "\n",
       "1. 각 용의자가 진실을 말하는지 거짓말을 하는지에 대한 단서\n",
       "2. 범인이 아닌 용의자들의 진술이 서로 일치하는지 여부\n",
       "3. 다른 물증이나 증거 정보\n",
       "\n",
       "이러한 추가 정보가 제공된다면 범인을 특정할 수 있을 것입니다. 하지만 현재 주어진 정보만으로는 범인을 확실하게 밝힐 수 없습니다."
      ],
      "text/plain": [
       "<IPython.core.display.Markdown object>"
      ]
     },
     "metadata": {},
     "output_type": "display_data"
    },
    {
     "name": "stdout",
     "output_type": "stream",
     "text": [
      "\n",
      "\n",
      "\n"
     ]
    },
    {
     "data": {
      "text/markdown": [
       "8. ***"
      ],
      "text/plain": [
       "<IPython.core.display.Markdown object>"
      ]
     },
     "metadata": {},
     "output_type": "display_data"
    },
    {
     "name": "stdout",
     "output_type": "stream",
     "text": [
      "\n",
      "\n",
      "\n"
     ]
    },
    {
     "data": {
      "text/markdown": [
       "9. 이 문제를 해결하는 것은 쉽지 않습니다. 이 문제에는 명확한 해답이 없는 것 같습니다.\n",
       "\n",
       "먼저, 문제에서 제시된 조건을 살펴보면 다음과 같습니다:\n",
       "- 4명의 용의자 중 3명은 진실을 말하고, 1명은 거짓말을 합니다.\n",
       "- A는 B가 범인이라고 말합니다.\n",
       "- B는 C가 범인이라고 말합니다.\n",
       "- C는 D가 범인이라고 말합니다.\n",
       "- D는 C가 범인이라고 말합니다.\n",
       "\n",
       "이 정보만으로는 누가 진범인지를 판단할 수 없습니다. 다음과 같은 경우가 모두 가능합니다:\n",
       "1. A와 B가 진실을 말하고, C와 D가 거짓말을 하는 경우\n",
       "2. A와 D가 진실을 말하고, B와 C가 거짓말을 하는 경우\n",
       "3. B와 D가 진실을 말하고, A와 C가 거짓말을 하는 경우\n",
       "\n",
       "따라서 이 문제는 해결할 수 없다고 말할 수 있습니다. 추가적인 정보가 필요할 것 같습니다."
      ],
      "text/plain": [
       "<IPython.core.display.Markdown object>"
      ]
     },
     "metadata": {},
     "output_type": "display_data"
    },
    {
     "name": "stdout",
     "output_type": "stream",
     "text": [
      "\n",
      "\n",
      "\n"
     ]
    },
    {
     "data": {
      "text/markdown": [
       "10. ***"
      ],
      "text/plain": [
       "<IPython.core.display.Markdown object>"
      ]
     },
     "metadata": {},
     "output_type": "display_data"
    },
    {
     "name": "stdout",
     "output_type": "stream",
     "text": [
      "\n",
      "\n",
      "\n"
     ]
    },
    {
     "data": {
      "text/markdown": [
       "## Model: claude-3-5-sonnet-20240620"
      ],
      "text/plain": [
       "<IPython.core.display.Markdown object>"
      ]
     },
     "metadata": {},
     "output_type": "display_data"
    },
    {
     "data": {
      "text/markdown": [
       "1. 이 문제는 주어진 정보만으로는 명확하게 해결할 수 없습니다.\n",
       "\n",
       "이유는 다음과 같습니다:\n",
       "\n",
       "1. 4명 중 3명이 진실을 말하고 1명이 거짓말을 한다는 것은 알지만, 누가 거짓말을 하는지 특정할 수 없습니다.\n",
       "\n",
       "2. 각 사람의 진술이 서로 다른 사람을 가리키고 있어, 순환적인 구조를 형성하고 있습니다.\n",
       "\n",
       "3. 거짓말을 하는 사람이 누구인지에 따라 범인이 달라질 수 있습니다.\n",
       "\n",
       "4. 범인이 진실을 말하는 3명 중 한 명일 수도 있고, 거짓말을 하는 1명일 수도 있습니다.\n",
       "\n",
       "따라서 주어진 정보만으로는 누가 범인인지 확실하게 결정할 수 없습니다. 추가적인 정보나 단서가 필요합니다."
      ],
      "text/plain": [
       "<IPython.core.display.Markdown object>"
      ]
     },
     "metadata": {},
     "output_type": "display_data"
    },
    {
     "name": "stdout",
     "output_type": "stream",
     "text": [
      "\n",
      "\n",
      "\n"
     ]
    },
    {
     "data": {
      "text/markdown": [
       "2. ***"
      ],
      "text/plain": [
       "<IPython.core.display.Markdown object>"
      ]
     },
     "metadata": {},
     "output_type": "display_data"
    },
    {
     "name": "stdout",
     "output_type": "stream",
     "text": [
      "\n",
      "\n",
      "\n"
     ]
    },
    {
     "data": {
      "text/markdown": [
       "3. 이 문제는 주어진 정보만으로는 정확히 누가 범인인지 결정할 수 없습니다. 하지만 몇 가지 결론을 도출할 수 있습니다:\n",
       "\n",
       "1. 3명이 진실을 말하고 1명이 거짓말을 한다는 조건에 따라, 적어도 두 명의 진술은 일치해야 합니다.\n",
       "\n",
       "2. C와 D의 진술이 서로를 범인이라고 지목하며 일치합니다. 이는 두 가지 가능성을 제시합니다:\n",
       "   a) C와 D 모두 진실을 말하고 있고, 둘 중 하나가 범인입니다.\n",
       "   b) C와 D 중 한 명이 거짓말을 하고 있고, 다른 한 명이 범인입니다.\n",
       "\n",
       "3. A와 B의 진술은 서로 다른 사람을 지목하고 있으므로, 둘 다 진실을 말하고 있을 수 없습니다.\n",
       "\n",
       "결론적으로, 범인은 C 또는 D 중 한 명이지만, 정확히 누구인지는 결정할 수 없습니다. 또한 A와 B 중 한 명은 반드시 거짓말을 하고 있습니다."
      ],
      "text/plain": [
       "<IPython.core.display.Markdown object>"
      ]
     },
     "metadata": {},
     "output_type": "display_data"
    },
    {
     "name": "stdout",
     "output_type": "stream",
     "text": [
      "\n",
      "\n",
      "\n"
     ]
    },
    {
     "data": {
      "text/markdown": [
       "4. ***"
      ],
      "text/plain": [
       "<IPython.core.display.Markdown object>"
      ]
     },
     "metadata": {},
     "output_type": "display_data"
    },
    {
     "name": "stdout",
     "output_type": "stream",
     "text": [
      "\n",
      "\n",
      "\n"
     ]
    },
    {
     "data": {
      "text/markdown": [
       "5. 이 문제는 주어진 정보만으로는 명확하게 해결할 수 없습니다.\n",
       "\n",
       "이유는 다음과 같습니다:\n",
       "\n",
       "1. 4명 중 3명이 진실을 말하고 1명이 거짓말을 한다는 것은 알지만, 누가 거짓말을 하는지 특정할 수 없습니다.\n",
       "\n",
       "2. 각 사람의 진술만으로는 누가 범인인지 확실하게 판단할 수 없습니다.\n",
       "\n",
       "3. 거짓말을 하는 사람이 누구냐에 따라 범인이 달라질 수 있습니다.\n",
       "\n",
       "4. 여러 가지 가능성이 존재하며, 이 중 어떤 것이 사실인지 결정할 추가 정보가 없습니다.\n",
       "\n",
       "따라서 주어진 정보만으로는 범인을 특정하거나 문제를 완전히 해결할 수 없습니다. 추가적인 정보나 단서가 필요합니다."
      ],
      "text/plain": [
       "<IPython.core.display.Markdown object>"
      ]
     },
     "metadata": {},
     "output_type": "display_data"
    },
    {
     "name": "stdout",
     "output_type": "stream",
     "text": [
      "\n",
      "\n",
      "\n"
     ]
    },
    {
     "data": {
      "text/markdown": [
       "6. ***"
      ],
      "text/plain": [
       "<IPython.core.display.Markdown object>"
      ]
     },
     "metadata": {},
     "output_type": "display_data"
    },
    {
     "name": "stdout",
     "output_type": "stream",
     "text": [
      "\n",
      "\n",
      "\n"
     ]
    },
    {
     "data": {
      "text/markdown": [
       "7. 이 문제는 주어진 정보만으로는 완전히 해결할 수 없습니다. 그 이유는 다음과 같습니다:\n",
       "\n",
       "1. 4명 중 3명이 진실을 말하고 1명이 거짓말을 한다는 것은 알지만, 누가 거짓말을 하는지 특정할 수 없습니다.\n",
       "\n",
       "2. 각 사람의 진술이 서로를 가리키고 있어, 순환적인 구조를 형성하고 있습니다.\n",
       "\n",
       "3. 거짓말을 하는 사람이 누구인지에 따라 범인이 달라질 수 있습니다.\n",
       "\n",
       "4. 범인이 진실을 말하는 3명 중 한 명일 수도 있고, 거짓말을 하는 1명일 수도 있습니다.\n",
       "\n",
       "따라서 이 정보만으로는 누가 범인인지 확실하게 특정할 수 없습니다. 추가적인 정보나 단서가 필요합니다."
      ],
      "text/plain": [
       "<IPython.core.display.Markdown object>"
      ]
     },
     "metadata": {},
     "output_type": "display_data"
    },
    {
     "name": "stdout",
     "output_type": "stream",
     "text": [
      "\n",
      "\n",
      "\n"
     ]
    },
    {
     "data": {
      "text/markdown": [
       "8. ***"
      ],
      "text/plain": [
       "<IPython.core.display.Markdown object>"
      ]
     },
     "metadata": {},
     "output_type": "display_data"
    },
    {
     "name": "stdout",
     "output_type": "stream",
     "text": [
      "\n",
      "\n",
      "\n"
     ]
    },
    {
     "data": {
      "text/markdown": [
       "9. 이 문제는 주어진 정보만으로는 정확히 누가 범인인지 결정할 수 없습니다. 그 이유는 다음과 같습니다:\n",
       "\n",
       "1. 4명 중 3명이 진실을 말하고 1명이 거짓말을 한다는 것은 알지만, 누가 거짓말을 하는지 특정할 수 없습니다.\n",
       "\n",
       "2. 각 사람의 진술이 서로 다른 사람을 지목하고 있어, 누군가 한 명이 거짓말을 하고 있다는 것은 확실하지만, 그 사람이 누구인지 확정할 수 없습니다.\n",
       "\n",
       "3. C와 D가 서로를 범인이라고 지목하고 있어, 이 둘 중 한 명은 반드시 거짓말을 하고 있습니다. 하지만 둘 중 누가 거짓말을 하는지, 또는 이 둘 외의 다른 사람이 거짓말을 하는지 판단할 수 없습니다.\n",
       "\n",
       "따라서 이 문제는 주어진 정보만으로는 해결할 수 없습니다. 범인을 특정하거나 거짓말을 하는 사람을 확실히 판별하기 위해서는 추가적인 정보가 필요합니다."
      ],
      "text/plain": [
       "<IPython.core.display.Markdown object>"
      ]
     },
     "metadata": {},
     "output_type": "display_data"
    },
    {
     "name": "stdout",
     "output_type": "stream",
     "text": [
      "\n",
      "\n",
      "\n"
     ]
    },
    {
     "data": {
      "text/markdown": [
       "10. ***"
      ],
      "text/plain": [
       "<IPython.core.display.Markdown object>"
      ]
     },
     "metadata": {},
     "output_type": "display_data"
    },
    {
     "name": "stdout",
     "output_type": "stream",
     "text": [
      "\n",
      "\n",
      "\n"
     ]
    },
    {
     "data": {
      "text/markdown": [
       "## Model: claude-3-opus-20240229"
      ],
      "text/plain": [
       "<IPython.core.display.Markdown object>"
      ]
     },
     "metadata": {},
     "output_type": "display_data"
    },
    {
     "data": {
      "text/markdown": [
       "1. 이 문제는 해결할 수 없습니다. \n",
       "\n",
       "제시된 조건만으로는 누가 거짓말을 하고 있는지, 누가 범인인지 특정할 수 없기 때문입니다. 각자 다른 사람을 범인으로 지목하고 있어서 모순이 발생하며, 주어진 정보만으로는 모순을 해결할 단서가 부족합니다. \n",
       "\n",
       "따라서 주어진 문제 조건만으로는 유일한 해를 도출할 수 없습니다."
      ],
      "text/plain": [
       "<IPython.core.display.Markdown object>"
      ]
     },
     "metadata": {},
     "output_type": "display_data"
    },
    {
     "name": "stdout",
     "output_type": "stream",
     "text": [
      "\n",
      "\n",
      "\n"
     ]
    },
    {
     "data": {
      "text/markdown": [
       "2. ***"
      ],
      "text/plain": [
       "<IPython.core.display.Markdown object>"
      ]
     },
     "metadata": {},
     "output_type": "display_data"
    },
    {
     "name": "stdout",
     "output_type": "stream",
     "text": [
      "\n",
      "\n",
      "\n"
     ]
    },
    {
     "data": {
      "text/markdown": [
       "3. 이 문제는 해결할 수 없습니다. \n",
       "\n",
       "주어진 정보만으로는 누가 거짓말을 하고 있는지, 누가 범인인지 명확하게 판단할 수 없기 때문입니다. \n",
       "\n",
       "각 용의자의 진술이 서로 모순되고 있어서, 이를 바탕으로 정확한 결론을 내리기 어렵습니다. 범인을 특정하기 위해서는 추가적인 정보나 증거가 필요할 것 같습니다."
      ],
      "text/plain": [
       "<IPython.core.display.Markdown object>"
      ]
     },
     "metadata": {},
     "output_type": "display_data"
    },
    {
     "name": "stdout",
     "output_type": "stream",
     "text": [
      "\n",
      "\n",
      "\n"
     ]
    },
    {
     "data": {
      "text/markdown": [
       "4. ***"
      ],
      "text/plain": [
       "<IPython.core.display.Markdown object>"
      ]
     },
     "metadata": {},
     "output_type": "display_data"
    },
    {
     "name": "stdout",
     "output_type": "stream",
     "text": [
      "\n",
      "\n",
      "\n"
     ]
    },
    {
     "data": {
      "text/markdown": [
       "5. 이 문제는 해결할 수 없습니다. \n",
       "\n",
       "주어진 조건만으로는 누가 진실을 말하고 누가 거짓말을 하는지 알 수 없기 때문입니다. 4명 모두 서로를 범인으로 지목하고 있어서 모순이 발생합니다. \n",
       "\n",
       "만약 추가적인 정보나 단서가 주어진다면 범인을 특정할 수 있을 것 같습니다. 하지만 현재 제시된 내용만으로는 논리적으로 모순되는 상황이라 범인을 특정하는 것이 불가능해 보입니다."
      ],
      "text/plain": [
       "<IPython.core.display.Markdown object>"
      ]
     },
     "metadata": {},
     "output_type": "display_data"
    },
    {
     "name": "stdout",
     "output_type": "stream",
     "text": [
      "\n",
      "\n",
      "\n"
     ]
    },
    {
     "data": {
      "text/markdown": [
       "6. ***"
      ],
      "text/plain": [
       "<IPython.core.display.Markdown object>"
      ]
     },
     "metadata": {},
     "output_type": "display_data"
    },
    {
     "name": "stdout",
     "output_type": "stream",
     "text": [
      "\n",
      "\n",
      "\n"
     ]
    },
    {
     "data": {
      "text/markdown": [
       "7. 이 문제는 해결할 수 있습니다. 진실을 말하는 사람들의 주장이 모순을 일으키므로, 진실을 말하지 않는 사람이 바로 범인입니다.\n",
       "\n",
       "A가 진실을 말한다면, B는 범인이고 거짓말을 하는 사람입니다. 하지만 B는 C가 범인이라고 말하고 있으므로 모순이 발생합니다. 따라서 A는 거짓말을 하고 있습니다.\n",
       "\n",
       "B가 진실을 말한다면, C는 범인이고 거짓말을 하는 사람입니다. 하지만 C는 D가 범인이라고 말하고 있으므로 모순이 발생합니다. 따라서 B도 진실을 말하지 않습니다.\n",
       "\n",
       "C와 D는 서로를 범인으로 지목하고 있습니다. 둘 중 하나는 거짓말을 하고 있어야 합니다.\n",
       "\n",
       "따라서 거짓말을 하는 사람, 즉 범인은 A입니다."
      ],
      "text/plain": [
       "<IPython.core.display.Markdown object>"
      ]
     },
     "metadata": {},
     "output_type": "display_data"
    },
    {
     "name": "stdout",
     "output_type": "stream",
     "text": [
      "\n",
      "\n",
      "\n"
     ]
    },
    {
     "data": {
      "text/markdown": [
       "8. ***"
      ],
      "text/plain": [
       "<IPython.core.display.Markdown object>"
      ]
     },
     "metadata": {},
     "output_type": "display_data"
    },
    {
     "name": "stdout",
     "output_type": "stream",
     "text": [
      "\n",
      "\n",
      "\n"
     ]
    },
    {
     "data": {
      "text/markdown": [
       "9. 이 문제는 해결할 수 없습니다. \n",
       "\n",
       "문제에서 제시된 조건만으로는 누가 진실을 말하고 누가 거짓말을 하는지 알 수 없기 때문입니다. \n",
       "\n",
       "A, B, C, D가 서로를 범인으로 지목하고 있지만, 이들 중 누가 진실을 말하는지 명확하지 않습니다. 진실을 말하는 3명이 누구이고 거짓말을 하는 1명이 누구인지에 따라 범인이 달라질 수 있습니다.\n",
       "\n",
       "따라서 주어진 정보만으로는 누가 범인인지 특정할 수 없어 이 문제는 해결 불가능합니다."
      ],
      "text/plain": [
       "<IPython.core.display.Markdown object>"
      ]
     },
     "metadata": {},
     "output_type": "display_data"
    },
    {
     "name": "stdout",
     "output_type": "stream",
     "text": [
      "\n",
      "\n",
      "\n"
     ]
    },
    {
     "data": {
      "text/markdown": [
       "10. ***"
      ],
      "text/plain": [
       "<IPython.core.display.Markdown object>"
      ]
     },
     "metadata": {},
     "output_type": "display_data"
    },
    {
     "name": "stdout",
     "output_type": "stream",
     "text": [
      "\n",
      "\n",
      "\n"
     ]
    }
   ],
   "source": [
    "compare_models()"
   ]
  },
  {
   "cell_type": "code",
   "execution_count": null,
   "id": "62a9ce43",
   "metadata": {},
   "outputs": [],
   "source": []
  }
 ],
 "metadata": {
  "kernelspec": {
   "display_name": "prompt_basic",
   "language": "python",
   "name": "python3"
  },
  "language_info": {
   "codemirror_mode": {
    "name": "ipython",
    "version": 3
   },
   "file_extension": ".py",
   "mimetype": "text/x-python",
   "name": "python",
   "nbconvert_exporter": "python",
   "pygments_lexer": "ipython3",
   "version": "3.13.2"
  }
 },
 "nbformat": 4,
 "nbformat_minor": 5
}
